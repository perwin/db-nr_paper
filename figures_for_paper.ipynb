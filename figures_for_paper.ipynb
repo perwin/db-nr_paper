{
 "cells": [
  {
   "cell_type": "markdown",
   "id": "0e639844",
   "metadata": {},
   "source": [
    "# Figures for the Paper"
   ]
  },
  {
   "cell_type": "markdown",
   "id": "c2d28e79",
   "metadata": {},
   "source": [
    "Python code for generating figures used in the paper \"The Frequency\n",
    "and Sizes of Inner Bars and Nuclear Rings in Barred Galaxies and Their\n",
    "Dependence on Galaxy Properties\" (Erwin 2023, submitted)"
   ]
  },
  {
   "cell_type": "markdown",
   "id": "a2b54997",
   "metadata": {},
   "source": [
    "## Requirements\n",
    "\n",
    "This notebook is meant to be run within the full **db-nr_paper** repository, including the associated Python modules and data files.\n",
    "\n",
    "In addition, this notebook requires, directly or indirectly, the following Python packages:\n",
    "   * numpy\n",
    "   * scipy\n",
    "   * matplotlib\n",
    "\n",
    "By default, output PDF figure files are *not* saved to disk; to enable this, set the `savePlots` variable in the **Setup** cell to `True` and change the `plotDir` variable (same cell) to point to where you want the figures saved."
   ]
  },
  {
   "cell_type": "markdown",
   "id": "ca9e1ce5",
   "metadata": {},
   "source": [
    "## Initial Setup"
   ]
  },
  {
   "cell_type": "markdown",
   "id": "e3a93f14",
   "metadata": {},
   "source": [
    "### General Setup"
   ]
  },
  {
   "cell_type": "code",
   "execution_count": 1,
   "id": "7dfb5fe4",
   "metadata": {},
   "outputs": [],
   "source": [
    "%matplotlib inline\n",
    "\n",
    "from matplotlib.pyplot import plot, xlim, ylim, title, legend, xlabel, ylabel\n",
    "from matplotlib.pyplot import subplots_adjust, text, savefig, gca, clf, hist\n",
    "from matplotlib.pyplot import loglog, semilogx, semilogy\n",
    "\n",
    "import matplotlib\n",
    "matplotlib.rcParams['figure.figsize'] = (8,6)\n",
    "matplotlib.rcParams['xtick.labelsize'] = 16\n",
    "matplotlib.rcParams['ytick.labelsize'] = 16\n",
    "matplotlib.rcParams['axes.labelsize'] = 20\n"
   ]
  },
  {
   "cell_type": "code",
   "execution_count": 2,
   "id": "76f2c769",
   "metadata": {},
   "outputs": [],
   "source": [
    "import copy\n",
    "# restore \"reload\" capability to Python 3 (should work for 3.4 and later)\n",
    "try:\n",
    "        from importlib import reload\n",
    "except ImportError:\n",
    "        pass\n",
    "\n",
    "import scipy.stats\n",
    "import numpy as np\n",
    "\n",
    "# CHANGE THIS TO POINT TO APPROPRIATE LOCAL DIRECTORY (DEFAULT = SAME DIRECTORY AS THIS NOTEBOOK)\n",
    "# baseDir = \"/Users/erwin/Documents/Working/Papers/Paper-extended-wiyn-survey/public/\"\n",
    "baseDir = os.getcwd() + \"/\"\n",
    "\n",
    "dataDir = baseDir + \"data/\"\n",
    "plotDir = baseDir + \"plots/\"\n",
    "sys.path.append(baseDir)\n",
    "\n",
    "import dbnr_utils\n",
    "import plotutils as pu\n",
    "import datautils as du\n",
    "\n",
    "# unbarredInfoFile = \"/Users/erwin/Documents/Working/Papers/Paper-extended-wiyn-survey/sample_unbarred_info_d30b.txt\"\n",
    "unbarredInfoFile = dataDir + \"table_unbarred_info.dat\"\n",
    "\n",
    "df_bars, gnames_bars_rowdict = dbnr_utils.GetBarredGalaxyData(\"table_mainsample.dat\", dataDir)\n",
    "nBarredGalaxies = len(df_bars.name)\n",
    "\n",
    "s4gdata = du.ReadCompositeTable(dataDir + \"s4gbars_table.dat\", columnRow=29, dataFrame=True)\n",
    "nS4G = len(s4gdata.name)\n",
    "\n",
    "dlines = [line for line in open(unbarredInfoFile) if len(line) > 1 and line[0] != '#']\n",
    "unbarred_htype_dict = { line.split()[0]: float(line.split()[1]) for line in dlines}\n",
    "unbarred_logmstar_dict = { line.split()[0]: float(line.split()[3]) for line in dlines}\n",
    "unbarred_gnames = list(unbarred_htype_dict.keys())\n",
    "unbarred_htypes = np.array([ unbarred_htype_dict[gname] for gname in unbarred_gnames])\n",
    "unbarred_logmstar = np.array([ unbarred_logmstar_dict[gname] for gname in unbarred_gnames])\n",
    "nUnbarredGalaxies = len(unbarred_htypes)\n",
    "nAllGalaxies = nBarredGalaxies + nUnbarredGalaxies\n",
    "\n",
    "# *** FIXME\n",
    "logmstar_allGalaxies = np.concatenate((df_bars.logmstar\n",
    "\n",
    "mm = np.arange(8,12,0.01)\n",
    "\n",
    "# set the following to True in order to save the figures as PDF files\n",
    "savePlots = False\n"
   ]
  },
  {
   "cell_type": "code",
   "execution_count": 3,
   "id": "b1dcee2f",
   "metadata": {},
   "outputs": [],
   "source": [
    "xtmstar = r\"$\\log \\: (M_{\\star} / M_{\\odot})$\"\n",
    "xtdist = r\"Distance [Mpc]\"\n",
    "ytbarsize_kpc_amax = r\"Bar size $a_{\\epsilon}$ [kpc, deprojected]\"\n",
    "ytbarsize_kpc_Lbar = r\"Bar size $L_{\\rm bar}$ [kpc, deprojected]\"\n",
    "ytbarsize_kpc_s4g = r\"Bar size $a_{\\rm vis}$ [kpc, deprojected]\"\n",
    "ytbarsize_kpc_both = r\"Bar size $a_{\\rm vis}$ or $a_{\\epsilon}$ [kpc, deprojected]\"\n",
    "ytbarsize_kpc_nr = r\"Bar or NR size [kpc, deprojected]\"\n",
    "ytbarsize_kpc_obs = r\"Observed bar size $a_{\\rm vis}$ [kpc]\"\n"
   ]
  },
  {
   "cell_type": "markdown",
   "id": "b442607a",
   "metadata": {},
   "source": [
    "### Useful Functions"
   ]
  },
  {
   "cell_type": "code",
   "execution_count": 4,
   "id": "f66c81de",
   "metadata": {},
   "outputs": [],
   "source": [
    "def logistic( x, params ):\n",
    "    \"\"\"\n",
    "    Calculates the standard, single-variable logistic function (Bernoulli probability function)\n",
    "    for x (which can be a scalar or a 1D numpy array).\n",
    "    \n",
    "    P(x) = 1 / (1 + exp(-alpha + beta*x))\n",
    "    \n",
    "    Parameters\n",
    "    ----------\n",
    "    x : float or 1D ndarray of float\n",
    "        independent (predictor) variable\n",
    "\n",
    "    params : list or 1D ndarray of float\n",
    "        parameters for probFn = [alpha, beta]\n",
    "    \n",
    "    Returns\n",
    "    -------\n",
    "    p : float or 1D ndarray of float\n",
    "        Bernoulli probability\n",
    "    \"\"\"\n",
    "    alpha, beta = params\n",
    "    return 1.0 / (1.0 + np.exp(-(alpha + beta*x)))\n",
    "\n",
    "\n",
    "def logistic_multivar( x_arr, params ):\n",
    "    \"\"\"\n",
    "    Calculates the standard logistic function (Bernoulli probability function)\n",
    "    for multiple independent variables (x_1, x_2, etc.).\n",
    "    \n",
    "    P(x) = 1 / (1 + exp(-alpha + beta_1*x_1 + beta_2*x_2 + ...))\n",
    "    \n",
    "    Parameters\n",
    "    ----------\n",
    "    x_arr : list of float or 2D ndarray of float\n",
    "        Independent (predictor) variables, one per *row*. Possible formats:\n",
    "            [x_1, x_2, x_3], where each x is a scalar float\n",
    "            [x_1, x_2, x_3], where each x is a 1D ndarray of float\n",
    "            np.array([x_1, x_2, x_3]) -- x_arr.shape = (nVars, nData)\n",
    "\n",
    "    params : list or 1D ndarray of float\n",
    "        parameters for probFn = [alpha, beta_1, beta_2, ...]\n",
    "    \n",
    "    Returns\n",
    "    -------\n",
    "    p : float or 1D ndarray of float\n",
    "        Bernoulli probability\n",
    "    \"\"\"\n",
    "    alpha = params[0]\n",
    "    betas = params[1:]\n",
    "    expTerm = alpha\n",
    "    nVars = len(x_arr)\n",
    "    for i in range(nVars):\n",
    "        expTerm += betas[i]*x_arr[i]\n",
    "    return 1.0 / (1.0 + np.exp(-expTerm))\n",
    "\n",
    "\n",
    "def simplefunc_linear( params, x ):\n",
    "    \"\"\"Simple function to compute linear fit: \n",
    "        y = alpha + beta*x\n",
    "    \n",
    "    Parameters\n",
    "    ----------\n",
    "    params : sequence of float\n",
    "        [alpha, beta]\n",
    "    x : float or numpy ndarray of float\n",
    "        x values\n",
    "    \n",
    "    Returns\n",
    "    -------\n",
    "    y : float or numpy ndarray of float\n",
    "        y = alpha + beta*x\n",
    "    \"\"\"\n",
    "    alpha = params[0]\n",
    "    beta = params[1]\n",
    "    npts = len(x)\n",
    "    vals = []\n",
    "    for i in range(npts):\n",
    "        value = alpha + beta*x[i]\n",
    "        vals.append(value)\n",
    "    return np.array(vals)\n",
    "\n",
    "def simplefunc_brokenlinear( params, x ):\n",
    "    \"\"\"\n",
    "    Computes a broken-linear function:\n",
    "        y = alpha_1 + beta_1*x.  for x < x_break\n",
    "        y = alpha_2 + beta_2*x.  for x > x_break\n",
    "    \n",
    "    Parameters\n",
    "    ----------\n",
    "    params : 1D sequence of float\n",
    "        [alpha_1, beta_1, x_break, beta_2] for the function\n",
    "        (note that alpha_2 is computed from the values of the other parameters)\n",
    "    \n",
    "    x : float or 1D ndarray of float\n",
    "        x-values (e.g., log(stellar-mass))\n",
    "    \n",
    "    Returns\n",
    "    -------\n",
    "    vals : float or 1D ndarray of float\n",
    "        the value of the broken-linear function at x\n",
    "    \"\"\"\n",
    "    alpha_1 = params[0]\n",
    "    beta_1 = params[1]\n",
    "    x_break = params[2]\n",
    "    beta_2 = params[3]\n",
    "    alpha_2 = alpha_1 + (beta_1 - beta_2)*x_break\n",
    "    if (np.iterable(x) == 0):\n",
    "        x = [x]\n",
    "    npts = len(x)\n",
    "    vals = []\n",
    "    for i in range(npts):\n",
    "        if x[i] < x_break:\n",
    "            value = alpha_1 + beta_1*x[i]\n",
    "        else:\n",
    "            value = alpha_2 + beta_2*x[i]\n",
    "        vals.append(value)\n",
    "    return vals\n"
   ]
  },
  {
   "cell_type": "markdown",
   "id": "ec3f05b1",
   "metadata": {},
   "source": [
    "### Defining subsamples via index vectors"
   ]
  },
  {
   "cell_type": "markdown",
   "id": "30547c0f",
   "metadata": {},
   "source": [
    "We define different subsamples of barred galaxies (e.g., those that are double-barred, those that are not, etc.) \n",
    "via vectors of `int` which function as indices into the various numpy arrays of barred-galaxy parameters (stellar mass, Hubble type, etc.) *or* into the 1322-galaxy, S4G-based parent sample for bar statistics (based on Garcia-Diaz et al. 2016a; see Erwin 2018). The former have name beginning with `ii_`, while the latter have names beginning with `ii_s4g_`."
   ]
  },
  {
   "cell_type": "code",
   "execution_count": 5,
   "id": "b456ab1d",
   "metadata": {},
   "outputs": [
    {
     "name": "stdout",
     "output_type": "stream",
     "text": [
      "Number of galaxies in ii_s4g_barred_non_ews =  632\n"
     ]
    }
   ],
   "source": [
    "# Double-barred and not double-barred\n",
    "ii_db = [i for i in range(nBarredGalaxies) if df_bars.dbFlag[i]]\n",
    "ii_nondb = [i for i in range(nBarredGalaxies) if i not in ii_db]\n",
    "\n",
    "# With and without nuclear rings\n",
    "ii_nr = [i for i in range(nBarredGalaxies) if df_bars.nrFlag[i]]\n",
    "ii_nonnr = [i for i in range(nBarredGalaxies) if i not in ii_nr]\n",
    "\n",
    "# subclasses of NR\n",
    "ii_nr_sf = [i for i in range(nBarredGalaxies) if df_bars.nr_class[i] == \"star-forming\"]\n",
    "ii_non_sf_nr = [i for i in range(nBarredGalaxies) if i not in ii_nr_sf]\n",
    "ii_nr_stellar = [i for i in range(nBarredGalaxies) if df_bars.nr_class[i] == \"stellar\"]\n",
    "ii_non_stellar_nr = [i for i in range(nBarredGalaxies) if i not in ii_nr_stellar]\n",
    "ii_nr_dusty = [i for i in range(nBarredGalaxies) if df_bars.nr_class[i] == \"dust\"]\n",
    "ii_non_dusty_nr = [i for i in range(nBarredGalaxies) if i not in ii_nr_dusty]\n",
    "\n",
    "\n",
    "# NOTE: the following are lists of indices into the 1322-galaxy S4G sample, *not* our 155-galaxy sample!\n",
    "# Barred and unbarred S4G galaxies, spiral-only S4G\n",
    "ii_s4g_barred = [i for i in range(nS4G) if s4gdata.sma[i] > 0]\n",
    "ii_s4g_unbarred = [i for i in range(nS4G) if s4gdata.sma[i] <= 0]\n",
    "ii_s4g_spirals = [i for i in range(nS4G) if s4gdata.t_s4g[i] > -0.5]\n",
    "# S4G barred spirals *not* in our sample (\"ews\" = \"Extended WIYN Survey\", an old name for the sample)\n",
    "ii_s4g_barred_non_ews = [i for i in ii_s4g_barred if s4gdata.name[i] not in df_bars.name]\n",
    "print(\"Number of galaxies in ii_s4g_barred_non_ews = \", len(ii_s4g_barred_non_ews))"
   ]
  },
  {
   "cell_type": "markdown",
   "id": "81f6b3fd",
   "metadata": {},
   "source": [
    "## Logistic Regression and Linear-Fit Parameters"
   ]
  },
  {
   "cell_type": "markdown",
   "id": "159d0222",
   "metadata": {},
   "source": [
    "These are best-fit parameters from various logistic regressions, done using R [xxx R notebook?]"
   ]
  },
  {
   "cell_type": "code",
   "execution_count": 6,
   "id": "64117d13",
   "metadata": {},
   "outputs": [],
   "source": [
    "# Standard logistic regression: alpha,beta for probability of DB or NR as function of log(stellar mass)\n",
    "coeffs_db_logmstar = [-38.138322797859345, 3.5314830697116486]\n",
    "coeffs_nr_logmstar = [-32.37282378409543, 2.9810021714670616]\n",
    "\n",
    "# Standard logistic regression: alpha,beta for probability of DB or NR as function of log(bar semi-major axis)\n",
    "coeffs_db_amax = [-2.8799470624743986, 3.8243338021684012]\n",
    "coeffs_nr_amax = [-3.7446577067157727, 5.580708260198873]\n",
    "\n",
    "# Multivariable logistic regression: alpha, beta_1, beta_2 for probability of \n",
    "# DB or NR as function of both log(stellar mass) and log(bar semi-major axis)\n",
    "coeffs_db_mstaramax = [-29.014651562443085, 2.5623561049406716, 2.511786400144422]\n",
    "coeffs_nr_mstaramax = [-18.131414108471176, 1.4213011797692052, 4.717473367658021]\n"
   ]
  },
  {
   "cell_type": "markdown",
   "id": "d5230dcb",
   "metadata": {},
   "source": [
    "These are best-fit paramters from linear fits for log(inner-bar-size) or log(NR-size) vs log(stellar-mass)"
   ]
  },
  {
   "cell_type": "markdown",
   "id": "055f8502-e777-4662-92b1-2b6a14b99f68",
   "metadata": {},
   "source": [
    "## [ ] Figure 1: Isophotes"
   ]
  },
  {
   "cell_type": "code",
   "execution_count": null,
   "id": "fc7e7097-fc67-4bae-bf7d-b7ba0a59e829",
   "metadata": {},
   "outputs": [],
   "source": []
  },
  {
   "cell_type": "markdown",
   "id": "176bb2c9",
   "metadata": {},
   "source": [
    "## Figure 2: DB and NR fraction vs stellar mass"
   ]
  },
  {
   "cell_type": "markdown",
   "id": "1f5c0eb6",
   "metadata": {},
   "source": [
    "This figure in the paper has two panels; the upper (immediately below) showing fractions for barred galaxies; and the lower (two cells below) for fractions of all galaxies."
   ]
  },
  {
   "cell_type": "markdown",
   "id": "4f829315",
   "metadata": {},
   "source": [
    "### Upper panel: DB and NR fraction vs stellar mass -- barred galaxies"
   ]
  },
  {
   "cell_type": "code",
   "execution_count": 7,
   "id": "edbc666f",
   "metadata": {},
   "outputs": [
    {
     "data": {
      "image/png": "[encoded data removed]",
      "text/plain": [
       "<Figure size 800x600 with 1 Axes>"
      ]
     },
     "metadata": {},
     "output_type": "display_data"
    }
   ],
   "source": [
    "pu.PlotFrequency(df_bars.logmstar, ii_db, ii_nondb, 9.5, 11.25, 0.25, fmt='ks',ms=10,label='Double bar')\n",
    "pu.PlotFrequency(df_bars.logmstar, ii_nr, ii_nonnr, 9.5, 11.25, 0.25, offset=0.015,noErase=True,\n",
    "                 fmt='o',mfc='None',mec='blue',color='blue',mew=1.5,ms=8,label=\"Nuclear ring\")\n",
    "plot(mm, logistic(mm,coeffs_db_logmstar), '0.75', ls='--', lw=2.5, label=\"f(DB) logistic fit\")\n",
    "plot(mm, logistic(mm,coeffs_nr_logmstar), 'b', alpha=0.5, ls='--', lw=2.5, label=\"f(NR) logistic fit\")\n",
    "xlim(9.5,11.25);ylim(0,1)\n",
    "\n",
    "# add bin counts\n",
    "binranges = np.arange(9.75, 11.25,0.25)\n",
    "i_all = ii_db + ii_nondb\n",
    "(n_all, bin_edges) = np.histogram(df_bars.logmstar[i_all], binranges)\n",
    "n_all_int = [round(n) for n in n_all]\n",
    "for i in range(len(n_all_int)):\n",
    "    x = binranges[i]\n",
    "    n = n_all_int[i]\n",
    "    text(x + 0.1, 0.95, \"%3d\" % n, fontsize=11.5, color='0.35')\n",
    "\n",
    "legend(loc='upper left', bbox_to_anchor=(0,0,1,0.95), fontsize=10)\n",
    "\n",
    "xlabel(xtmstar);ylabel(\"Fraction of barred galaxies \")\n",
    "subplots_adjust(bottom=0.14)\n",
    "if savePlots:\n",
    "    savefig(baseDir+\"fDB-NR_vs_logMstar_barred-galaxies.pdf\")\n",
    "\n",
    "    \n",
    "# NOTE: to generate the exact version used in the paper, without any x-axis labeling, do the following \n",
    "# (to suppress x-axis tick labeling (and also do *not* call xlabel)\n",
    "#ax = gca()\n",
    "#ax.set_xticklabels([])\n"
   ]
  },
  {
   "cell_type": "markdown",
   "id": "885596a7",
   "metadata": {},
   "source": [
    "### [ ] Lower panel: DB and NR fraction vs stellar mass -- all galaxies"
   ]
  },
  {
   "cell_type": "code",
   "execution_count": 8,
   "id": "738f302c",
   "metadata": {},
   "outputs": [
    {
     "ename": "IndexError",
     "evalue": "index 155 is out of bounds for axis 0 with size 155",
     "output_type": "error",
     "traceback": [
      "\u001b[0;31m---------------------------------------------------------------------------\u001b[0m",
      "\u001b[0;31mIndexError\u001b[0m                                Traceback (most recent call last)",
      "Cell \u001b[0;32mIn[8], line 6\u001b[0m\n\u001b[1;32m      4\u001b[0m ii_bar_all \u001b[38;5;241m=\u001b[39m np\u001b[38;5;241m.\u001b[39marange(\u001b[38;5;241m0\u001b[39m,nBarredGalaxies)\n\u001b[1;32m      5\u001b[0m ii_nonbar_all \u001b[38;5;241m=\u001b[39m np\u001b[38;5;241m.\u001b[39marange(nBarredGalaxies,nAllGalaxies)\n\u001b[0;32m----> 6\u001b[0m \u001b[43mpu\u001b[49m\u001b[38;5;241;43m.\u001b[39;49m\u001b[43mPlotFrequency\u001b[49m\u001b[43m(\u001b[49m\u001b[43mdf_bars\u001b[49m\u001b[38;5;241;43m.\u001b[39;49m\u001b[43mlogmstar\u001b[49m\u001b[43m,\u001b[49m\u001b[43m \u001b[49m\u001b[43mii_bar_all\u001b[49m\u001b[43m,\u001b[49m\u001b[43m \u001b[49m\u001b[43mii_nonbar_all\u001b[49m\u001b[43m,\u001b[49m\u001b[43m \u001b[49m\u001b[38;5;241;43m9.75\u001b[39;49m\u001b[43m,\u001b[49m\u001b[43m \u001b[49m\u001b[38;5;241;43m11.25\u001b[39;49m\u001b[43m,\u001b[49m\u001b[43m \u001b[49m\u001b[38;5;241;43m0.25\u001b[39;49m\u001b[43m,\u001b[49m\u001b[43m \u001b[49m\u001b[43mfmt\u001b[49m\u001b[38;5;241;43m=\u001b[39;49m\u001b[38;5;124;43m'\u001b[39;49m\u001b[38;5;124;43mro\u001b[39;49m\u001b[38;5;124;43m'\u001b[39;49m\u001b[43m,\u001b[49m\u001b[43m \u001b[49m\u001b[43mms\u001b[49m\u001b[38;5;241;43m=\u001b[39;49m\u001b[38;5;241;43m10\u001b[39;49m\u001b[43m,\u001b[49m\u001b[43m \u001b[49m\u001b[43mlabel\u001b[49m\u001b[38;5;241;43m=\u001b[39;49m\u001b[38;5;124;43m\"\u001b[39;49m\u001b[38;5;124;43mBar fraction\u001b[39;49m\u001b[38;5;124;43m\"\u001b[39;49m\u001b[43m)\u001b[49m\n\u001b[1;32m      8\u001b[0m pu\u001b[38;5;241m.\u001b[39mPlotFrequency(df_bars\u001b[38;5;241m.\u001b[39mlogmstar, ii_db, ii_nondb_all, \u001b[38;5;241m9.75\u001b[39m, \u001b[38;5;241m11.25\u001b[39m, \u001b[38;5;241m0.25\u001b[39m, noErase\u001b[38;5;241m=\u001b[39m\u001b[38;5;28;01mTrue\u001b[39;00m, fmt\u001b[38;5;241m=\u001b[39m\u001b[38;5;124m'\u001b[39m\u001b[38;5;124mks\u001b[39m\u001b[38;5;124m'\u001b[39m,\n\u001b[1;32m      9\u001b[0m                  ms\u001b[38;5;241m=\u001b[39m\u001b[38;5;241m10\u001b[39m,label\u001b[38;5;241m=\u001b[39m\u001b[38;5;124m'\u001b[39m\u001b[38;5;124mDouble bar\u001b[39m\u001b[38;5;124m'\u001b[39m)\n\u001b[1;32m     10\u001b[0m pu\u001b[38;5;241m.\u001b[39mPlotFrequency(df_bars\u001b[38;5;241m.\u001b[39mlogmstar, ii_nr, ii_nonnr_all, \u001b[38;5;241m9.75\u001b[39m, \u001b[38;5;241m11.25\u001b[39m, \u001b[38;5;241m0.25\u001b[39m, offset\u001b[38;5;241m=\u001b[39m\u001b[38;5;241m0.02\u001b[39m, noErase\u001b[38;5;241m=\u001b[39m\u001b[38;5;28;01mTrue\u001b[39;00m, \n\u001b[1;32m     11\u001b[0m                  fmt\u001b[38;5;241m=\u001b[39m\u001b[38;5;124m'\u001b[39m\u001b[38;5;124mo\u001b[39m\u001b[38;5;124m'\u001b[39m,mfc\u001b[38;5;241m=\u001b[39m\u001b[38;5;124m'\u001b[39m\u001b[38;5;124mNone\u001b[39m\u001b[38;5;124m'\u001b[39m,mec\u001b[38;5;241m=\u001b[39m\u001b[38;5;124m'\u001b[39m\u001b[38;5;124mblue\u001b[39m\u001b[38;5;124m'\u001b[39m,color\u001b[38;5;241m=\u001b[39m\u001b[38;5;124m'\u001b[39m\u001b[38;5;124mblue\u001b[39m\u001b[38;5;124m'\u001b[39m,mew\u001b[38;5;241m=\u001b[39m\u001b[38;5;241m1.5\u001b[39m,ms\u001b[38;5;241m=\u001b[39m\u001b[38;5;241m8\u001b[39m,label\u001b[38;5;241m=\u001b[39m\u001b[38;5;124m\"\u001b[39m\u001b[38;5;124mNuclear ring\u001b[39m\u001b[38;5;124m\"\u001b[39m)\n",
      "File \u001b[0;32m~/Documents/Working/Papers/Paper-extended-wiyn-survey/public/plotutils.py:64\u001b[0m, in \u001b[0;36mPlotFrequency\u001b[0;34m(values, i_1, i_non1, start, stop, step, offset, noErase, axisObj, debug, **kwargs)\u001b[0m\n\u001b[1;32m     62\u001b[0m binranges \u001b[38;5;241m=\u001b[39m np\u001b[38;5;241m.\u001b[39marange(start, stop, step)\n\u001b[1;32m     63\u001b[0m n1,bins \u001b[38;5;241m=\u001b[39m np\u001b[38;5;241m.\u001b[39mhistogram(np\u001b[38;5;241m.\u001b[39marray(values)[i_1], bins\u001b[38;5;241m=\u001b[39mbinranges)\n\u001b[0;32m---> 64\u001b[0m n2,bins \u001b[38;5;241m=\u001b[39m np\u001b[38;5;241m.\u001b[39mhistogram(\u001b[43mnp\u001b[49m\u001b[38;5;241;43m.\u001b[39;49m\u001b[43marray\u001b[49m\u001b[43m(\u001b[49m\u001b[43mvalues\u001b[49m\u001b[43m)\u001b[49m\u001b[43m[\u001b[49m\u001b[43mi_non1\u001b[49m\u001b[43m]\u001b[49m, bins\u001b[38;5;241m=\u001b[39mbinranges)\n\u001b[1;32m     65\u001b[0m nBins \u001b[38;5;241m=\u001b[39m \u001b[38;5;28mlen\u001b[39m(n1)\n\u001b[1;32m     67\u001b[0m ff \u001b[38;5;241m=\u001b[39m []\n",
      "\u001b[0;31mIndexError\u001b[0m: index 155 is out of bounds for axis 0 with size 155"
     ]
    }
   ],
   "source": [
    "ii_nondb_all = np.concatenate((ii_nondb, np.arange(nBarredGalaxies, nAllGalaxies)))\n",
    "ii_nonnr_all = np.concatenate((ii_nonnr, np.arange(nBarredGalaxies, nAllGalaxies)))\n",
    "\n",
    "ii_bar_all = np.arange(0,nBarredGalaxies)\n",
    "ii_nonbar_all = np.arange(nBarredGalaxies,nAllGalaxies)\n",
    "pu.PlotFrequency(df_bars.logmstar, ii_bar_all, ii_nonbar_all, 9.75, 11.25, 0.25, fmt='ro', ms=10, label=\"Bar fraction\")\n",
    "\n",
    "pu.PlotFrequency(df_bars.logmstar, ii_db, ii_nondb_all, 9.75, 11.25, 0.25, noErase=True, fmt='ks',\n",
    "                 ms=10,label='Double bar')\n",
    "pu.PlotFrequency(df_bars.logmstar, ii_nr, ii_nonnr_all, 9.75, 11.25, 0.25, offset=0.02, noErase=True, \n",
    "                 fmt='o',mfc='None',mec='blue',color='blue',mew=1.5,ms=8,label=\"Nuclear ring\")\n",
    "xlim(9.5,11.25);ylim(0,1)\n",
    "\n",
    "# add bin counts\n",
    "binranges = np.arange(9.75, 11.25,0.25)\n",
    "ii_all = np.concatenate((ii_bar_all, ii_nonbar_all))\n",
    "(n_all, bin_edges) = np.histogram(df_bars.logmstar[ii_all], binranges)\n",
    "n_all_int = [round(n) for n in n_all]\n",
    "for i in range(len(n_all_int)):\n",
    "    x = binranges[i]\n",
    "    n = n_all_int[i]\n",
    "    text(x + 0.1, 0.95, \"%3d\" % n, fontsize=11.5, color='0.35')\n",
    "\n",
    "legend(loc='upper left', bbox_to_anchor=(0,0,1,0.95), fontsize=10)\n",
    "# legend(loc='upper right', bbox_to_anchor=(0,0,1,0.95), fontsize=10)\n",
    "xlabel(xtmstar);ylabel(\"Fraction of all disc galaxies \")\n",
    "subplots_adjust(bottom=0.14)\n",
    "\n",
    "if savePlots:\n",
    "    savefig(baseDir+\"fDB-NR_vs_logMstar_all-galaxies.pdf\")\n"
   ]
  },
  {
   "cell_type": "markdown",
   "id": "e921bdf3",
   "metadata": {},
   "source": [
    "## Figure 3: NR fractions (different classes) vs stellar mass"
   ]
  },
  {
   "cell_type": "code",
   "execution_count": null,
   "id": "7a33b6f1",
   "metadata": {},
   "outputs": [],
   "source": [
    "# Just NRs, with subdivisions into different classes\n",
    "\n",
    "pu.PlotFrequency(df_bars.logmstar, ii_nr, ii_nonnr, 9.5, 11.25, 0.25, fmt='ks', ms=10, \n",
    "                 label='All nuclear rings')\n",
    "pu.PlotFrequency(df_bars.logmstar, ii_nr_stellar, ii_non_stellar_nr, 9.5, 11.25, 0.25, \n",
    "                 offset=0.02, noErase=True, fmt='o', mfc='None', mec='k', mew=1.5, ms=10,label='Stellar NR')\n",
    "pu.PlotFrequency(df_bars.logmstar, ii_nr_sf, ii_non_sf_nr, 9.5, 11.25, 0.25, offset=-0.015, \n",
    "                 noErase=True, fmt='c*', ms=10, label='Blue/SF NR')\n",
    "pu.PlotFrequency(df_bars.logmstar, ii_nr_dusty, ii_non_dusty_nr, 9.5, 11.25, 0.25, offset=-0.025, \n",
    "                 noErase=True, fmt='o', mfc='None', mec='r', ms=10, label='Dusty NR')\n",
    "legend(loc='upper left', fontsize=10)\n",
    "xlim(9.5,11.25);ylim(0,1)\n",
    "xlabel(xtmstar);ylabel(\"Fraction of barred galaxies with NRs\")\n",
    "subplots_adjust(bottom=0.14)\n",
    "if savePlots:\n",
    "    savefig(baseDir+\"fNR_vs_logMstar_NR-classes.pdf\")"
   ]
  },
  {
   "cell_type": "markdown",
   "id": "8e98ed94",
   "metadata": {},
   "source": [
    "## Figure 4: DB and NR fractions vs bar size"
   ]
  },
  {
   "cell_type": "code",
   "execution_count": null,
   "id": "d60fc636",
   "metadata": {},
   "outputs": [],
   "source": [
    "aa = np.arange(-0.4,1.01,0.01)\n",
    "logamax_dp_kpc = np.log10(df_bars.amax_dp_kpc)\n",
    "pu.PlotFrequency(logamax_dp_kpc, ii_db, ii_nondb, -0.4,1.2,0.2, fmt='ks',ms=10,label='Double bar')\n",
    "pu.PlotFrequency(logamax_dp_kpc, ii_nr, ii_nonnr, -0.4,1.2,0.2, offset=0.015,noErase=True,\n",
    "                 fmt='o',mfc='None',mec='blue',color='blue',mew=1.5,ms=8,label=\"Nuclear ring\")\n",
    "plot(aa, logistic(aa,coeffs_db_amax), '0.5', ls='--', lw=2.5, label=\"f(DB) logistic fit\")\n",
    "plot(aa, logistic(aa,coeffs_nr_amax), 'blue', alpha=0.5, ls='--', lw=2.5, label=\"f(NR) logistic fit\")\n",
    "ylim(0,1)\n",
    "ylabel(\"Fraction of barred galaxies \");xlabel(\"log outer/main bar size [kpc]\")\n",
    "\n",
    "\n",
    "# add bin counts\n",
    "binranges = np.arange(-0.4,1.2,0.2)\n",
    "i_all = ii_db + ii_nondb\n",
    "(n_all, bin_edges) = np.histogram(logamax_dp_kpc[i_all], binranges)\n",
    "n_all_int = [round(n) for n in n_all]\n",
    "for i in range(len(n_all_int)):\n",
    "    x = binranges[i]\n",
    "    n = n_all_int[i]\n",
    "    text(x + 0.07, 0.94, \"%3d\" % n, fontsize=11.5, color='0.35')\n",
    "\n",
    "legend(loc='upper left', bbox_to_anchor=(0.01,0,1,0.93), fontsize=10)\n",
    "\n",
    "def axis_to_lin( x ):\n",
    "    return 10**x\n",
    "\n",
    "def axis_to_log( x ):\n",
    "    return np.log10(x)\n",
    "\n",
    "ax = gca()\n",
    "ax.tick_params(axis='x', which='both', bottom=True, top=False)\n",
    "secax = ax.secondary_xaxis('top', functions=(axis_to_lin, axis_to_log))\n",
    "secax.set_xticks([1.0, 2.0, 4.0, 6.0, 8.0, 10.0])\n",
    "secax.set_xlabel('Outer/main bar size [kpc]')\n",
    "\n",
    "subplots_adjust(bottom=0.14)\n",
    "savefig(baseDir + \"fDB-NR_vs_logbarsize.pdf\")"
   ]
  },
  {
   "cell_type": "markdown",
   "id": "b9ad4b49",
   "metadata": {},
   "source": [
    "## Figure 5: DB fractions (w/ and w/o NR) vs stellar mass"
   ]
  },
  {
   "cell_type": "code",
   "execution_count": null,
   "id": "94af88dc",
   "metadata": {},
   "outputs": [],
   "source": [
    "# DB without NR\n",
    "ii_db_nonnr = [i for i in ii_db if i not in ii_nr]\n",
    "# all other galaxies (no DB and DB+NR)\n",
    "ii_non_db_nonnr = [i for i in range(nBarredGalaxies) if i not in ii_db_nonnr]\n",
    "\n",
    "# DB with NR\n",
    "ii_db_and_nr = [i for i in ii_db if i in ii_nr]\n",
    "# NR without DB\n",
    "ii_nr_nondb = [i for i in ii_nr if i not in ii_db]\n",
    "# galaxies without DB+NR\n",
    "ii_non_db_and_nr = [i for i in range(nBarredGalaxies) if i not in ii_db_and_nr]\n",
    "\n",
    "# NOTE: see cell that makes and saves \"fNR_vs_logMstar_all.pdf\" for similar plots for NRs\n",
    "# (all NR, NR w/ or w/o DB)\n",
    "\n",
    "pu.PlotFrequency(df_bars.logmstar, ii_db, ii_nondb, 9.5, 11.25, 0.25, fmt='ks', ms=10, label='All DBs')\n",
    "pu.PlotFrequency(df_bars.logmstar, ii_db_nonnr, ii_non_db_nonnr, 9.5, 11.25, 0.25, offset=0.02, \n",
    "                 noErase=True, fmt='ro', ms=10, label='DB without NR')\n",
    "pu.PlotFrequency(df_bars.logmstar, ii_db_and_nr, ii_non_db_and_nr, 9.5, 11.25, 0.25, offset=-0.02, \n",
    "                 noErase=True, fmt='m*', ms=10, label='DB with NR')\n",
    "legend(loc='upper left', fontsize=10)\n",
    "xlim(9.5,11.25);ylim(0,1)\n",
    "xlabel(xtmstar);ylabel(\"Fraction of barred galaxies\")\n",
    "subplots_adjust(bottom=0.14)\n",
    "if savePlots:\n",
    "    savefig(baseDir+\"fDB-with-without-NR_vs_logMstar_all.pdf\")"
   ]
  },
  {
   "cell_type": "markdown",
   "id": "32f8cd9b",
   "metadata": {},
   "source": [
    "## Figure 6: Multi-variable logistic fit curves"
   ]
  },
  {
   "cell_type": "code",
   "execution_count": null,
   "id": "4e98c567",
   "metadata": {},
   "outputs": [],
   "source": [
    "amax_vals = np.arange(1,6.01,0.01)\n",
    "logamax_vals = np.log10(amax_vals)\n",
    "nvals = len(amax_vals)\n",
    "\n",
    "logmstar_vals_102 = np.array([10.2]*nvals)\n",
    "xx = [logmstar_vals_102, logamax_vals]\n",
    "p_db_vals_102 = logistic_multivar(xx, coeffs_db_mstaramax)\n",
    "p_nr_vals_102 = logistic_multivar(xx, coeffs_nr_mstaramax)\n",
    "logmstar_vals_105 = np.array([10.5]*nvals)\n",
    "xx = [logmstar_vals_105, logamax_vals]\n",
    "p_db_vals_105 = logistic_multivar(xx, coeffs_db_mstaramax)\n",
    "p_nr_vals_105 = logistic_multivar(xx, coeffs_nr_mstaramax)\n",
    "logmstar_vals_108 = np.array([10.8]*nvals)\n",
    "xx = [logmstar_vals_108, logamax_vals]\n",
    "p_db_vals_108 = logistic_multivar(xx, coeffs_db_mstaramax)\n",
    "p_nr_vals_108 = logistic_multivar(xx, coeffs_nr_mstaramax)\n",
    "\n",
    "plot(10**logamax_vals, p_db_vals_102, 'b-', label=r\"$P({\\rm DB}): \\log M_{\\star} = 10.2$\")\n",
    "plot(10**logamax_vals, p_db_vals_105, 'k-', label=r\"$P({\\rm DB}): \\log M_{\\star} = 10.5$\")\n",
    "plot(10**logamax_vals, p_db_vals_108, 'r-', label=r\"$P({\\rm DB}): \\log M_{\\star} = 10.8$\")\n",
    "plot(10**logamax_vals, p_nr_vals_102, 'b--', label=r\"$P({\\rm NR}): \\log M_{\\star} = 10.2$\")\n",
    "plot(10**logamax_vals, p_nr_vals_105, 'k--', label=r\"$P({\\rm NR}): \\log M_{\\star} = 10.5$\")\n",
    "plot(10**logamax_vals, p_nr_vals_108, 'r--', label=r\"$P({\\rm NR}): \\log M_{\\star} = 10.8$\")\n",
    "legend(fontsize=11)\n",
    "ylabel(\"Probability of DB or NR in barred galaxy\");xlabel(\"Outer/main bar size [kpc]\")\n",
    "subplots_adjust(bottom=0.14)\n",
    "if savePlots:\n",
    "    savefig(baseDir + \"logistic-probs_DB-NR_vs_barsize.pdf\")"
   ]
  },
  {
   "cell_type": "markdown",
   "id": "dfe902c1",
   "metadata": {},
   "source": [
    "## Figure 7: DB and NR fractions vs Hubble type"
   ]
  },
  {
   "cell_type": "markdown",
   "id": "50520d3c",
   "metadata": {},
   "source": [
    "### Upper panel: for barred galaxies"
   ]
  },
  {
   "cell_type": "code",
   "execution_count": 9,
   "id": "ce7a50c1",
   "metadata": {},
   "outputs": [
    {
     "name": "stdout",
     "output_type": "stream",
     "text": [
      "['name', 'dist', 'T', 'logmstar', 'diskPA', 'inclination', 'rotCode', 'barPA', 'amax', 'Lbar', 'emax', 'dbFlag', 'nrFlag', 'bar2PA', 'amax_dp_kpc', 'amax2_dp_kpc', 'nr_dp_kpc', 'nr_class']\n"
     ]
    },
    {
     "data": {
      "image/png": "[encoded data removed]",
      "text/plain": [
       "<Figure size 800x600 with 1 Axes>"
      ]
     },
     "metadata": {},
     "output_type": "display_data"
    }
   ],
   "source": [
    "print(df_bars.colNames)\n",
    "pu.PlotFrequency(df_bars.T, ii_db, ii_nondb, -3.5,8,1, noErase=True, fmt='ks', ms=10, label=\"Double bar\")\n",
    "pu.PlotFrequency(df_bars.T, ii_nr, ii_nonnr, -3.5,8,1, offset=0.1, noErase=True, fmt='o', mfc='None', mec='c', mew=1.5, ms=10, label=\"Nuclear ring\")\n",
    "\n",
    "# add bin counts\n",
    "binranges = np.arange(-3.5,8,1)\n",
    "i_all = ii_db + ii_nondb\n",
    "(n_all, bin_edges) = np.histogram(df_bars.T[i_all], binranges)\n",
    "n_all_int = [round(n) for n in n_all]\n",
    "for i in range(len(n_all_int)):\n",
    "    x = binranges[i]\n",
    "    n = n_all_int[i]\n",
    "    text(x + 0.3, 0.94, \"%3d\" % n, fontsize=11.5, color='0.35')\n",
    "\n",
    "legend(loc='upper left', bbox_to_anchor=(0,0,1,0.94), fontsize=10)\n",
    "\n",
    "ylim(0,1);xlim(-4,8)\n",
    "ylabel(\"Fraction of barred galaxies \")\n",
    "ax = gca()\n",
    "ax.set_xticklabels([])\n",
    "subplots_adjust(bottom=0.14)\n",
    "if savePlots:\n",
    "    savefig(baseDir+\"fDB-NR_vs_Htype_barred-galaxies_no-x-labels.pdf\")\n",
    "\n",
    "# pu.PlotFrequency(df_bars.logmstar, ii_db, ii_nondb, 9.5, 11.25, 0.25, fmt='ks',ms=10,label='Double bar')\n"
   ]
  },
  {
   "cell_type": "markdown",
   "id": "cf6edabf",
   "metadata": {},
   "source": [
    "### Lower panel: for all galaxies"
   ]
  },
  {
   "cell_type": "code",
   "execution_count": 10,
   "id": "eb2c2f97",
   "metadata": {},
   "outputs": [
    {
     "data": {
      "image/png": "[encoded data removed]",
      "text/plain": [
       "<Figure size 800x600 with 1 Axes>"
      ]
     },
     "metadata": {},
     "output_type": "display_data"
    }
   ],
   "source": [
    "htypes_allGalaxies = np.concatenate((df_bars.T, unbarred_htypes))\n",
    "ii_nondb_all = [i for i in range(nAllGalaxies) if i not in ii_db]\n",
    "ii_nonnr_all = [i for i in range(nAllGalaxies) if i not in ii_nr]\n",
    "\n",
    "pu.PlotFrequency(htypes_allGalaxies, np.arange(0,nBarredGalaxies), \n",
    "                 np.arange(nBarredGalaxies,nAllGalaxies), -3.5,8,1, offset=-0.1, fmt='ro', \n",
    "                 ms=10, label=\"Bar fraction\")\n",
    "pu.PlotFrequency(htypes_allGalaxies, ii_db, ii_nondb_all, -3.5,8,1, noErase=True, fmt='ks', ms=10, label=\"Double bar\")\n",
    "pu.PlotFrequency(htypes_allGalaxies, ii_nr, ii_nonnr_all, -3.5,8,1, offset=0.1, noErase=True, fmt='o', mfc='None', mec='c', mew=1.5, ms=10, label=\"Nuclear ring\")\n",
    "ylim(0,1);xlim(-4,8)\n",
    "legend(fontsize=10)\n",
    "xlabel(\"Hubble type $T$\");ylabel(\"Fraction of all disc galaxies \")\n",
    "subplots_adjust(bottom=0.14)\n",
    "if savePlots:\n",
    "    savefig(baseDir+\"fDB-NR_vs_Htype_all-galaxies.pdf\")\n"
   ]
  },
  {
   "cell_type": "markdown",
   "id": "4a65239c",
   "metadata": {},
   "source": [
    "## Figure 8: Bar-size measurements: This paper vs S4G"
   ]
  },
  {
   "cell_type": "code",
   "execution_count": null,
   "id": "74abb50a",
   "metadata": {},
   "outputs": [],
   "source": [
    "# Defining the set of our (\"ews\") galaxies that are in S4G\n",
    "# first = indices into S4G; second = indices into ews_barred_gnames_d30\n",
    "ii_s4g_ews_in_s4g = []   # index into S4G\n",
    "ii_ews_in_s4g = []       # index into EWS (of galaxies in S4G)\n",
    "for i in range(nBarredGalaxies):\n",
    "    gname = df_bars.name[i]\n",
    "    if gname in s4gdata.name:\n",
    "        ii_ews_in_s4g.append(i)\n",
    "        ii = [i for i in range(nS4G) if s4gdata.name[i] == gname][0]\n",
    "        ii_s4g_ews_in_s4g.append(ii)\n",
    "\n",
    "# our observed bar amax\n",
    "amax_obs_arcsec = []\n",
    "lbar_obs_arcsec = []\n",
    "s4g_avis_obs_arcsec = []\n",
    "gnames_size_vs_s4g = []\n",
    "for n in range(len(ii_ews_in_s4g)):\n",
    "    iii_in_ews = ii_ews_in_s4g[n]\n",
    "    iii_in_s4g = ii_s4g_ews_in_s4g[n]\n",
    "    if s4gdata.sma[iii_in_s4g] > 0:\n",
    "        # only keep results if S4G has a valid bar size\n",
    "        s4g_avis_obs_arcsec.append(s4gdata.sma[iii_in_s4g])\n",
    "        amax_obs_arcsec.append(df_bars.amax[iii_in_ews])\n",
    "        lbar_obs_arcsec.append(df_bars.Lbar[iii_in_ews])\n",
    "\n",
    "# Fix NGC2681: use middle bar for EWS measurements\n",
    "iii = [i for i in range(len(df_bars.name)) if df_bars.name[i] == \"NGC2681\"][0]\n",
    "amax_obs_arcsec[iii] = 18.0\n",
    "lbar_obs_arcsec[iii] = 19.0"
   ]
  },
  {
   "cell_type": "markdown",
   "id": "10163568-8dc0-41ac-8363-69cfaf57bcad",
   "metadata": {},
   "source": [
    "### Upper panel of figure (no x-axis label)"
   ]
  },
  {
   "cell_type": "code",
   "execution_count": null,
   "id": "529393ba-3cd6-4ea6-aade-0a2647d2f17d",
   "metadata": {},
   "outputs": [],
   "source": [
    "plot([0,140],[0,140], color='0.5')\n",
    "plot(s4g_avis_obs_arcsec, amax_obs_arcsec, 'ko', ms=5)\n",
    "ylabel(r\"This paper: bar $a_{\\epsilon}$ [observed, arcsec]\")\n",
    "#xlabel(r\"S4G $a_{\\rm vis}$ [observed, arcsec]\")\n",
    "text(29,77, 'NGC5248', fontsize=10)\n",
    "ax = gca()\n",
    "ax.set_box_aspect(1)\n",
    "ax.set_xticklabels([])\n",
    "if savePlots:\n",
    "    savefig(baseDir+\"s4g-avis_vs_amax.pdf\")\n"
   ]
  },
  {
   "cell_type": "markdown",
   "id": "0e46d238-c9a8-402f-8a57-0320342f9d64",
   "metadata": {},
   "source": [
    "### Lower panel of figure"
   ]
  },
  {
   "cell_type": "code",
   "execution_count": null,
   "id": "d22d2a03-0b23-4281-9343-91619519c8bd",
   "metadata": {},
   "outputs": [],
   "source": [
    "plot(s4g_avis_obs_arcsec, lbar_obs_arcsec, 'ko', ms=5)\n",
    "plot([0,140],[0,140], color='0.5')\n",
    "ylabel(r\"This paper: bar $L_{\\rm bar}$ [observed, arcsec]\")\n",
    "xlabel(r\"S$^{4}$G $a_{\\rm vis}$ [observed, arcsec]\")\n",
    "text(29,110, 'NGC5248', fontsize=10)\n",
    "ax = gca()\n",
    "ax.set_box_aspect(1)\n",
    "subplots_adjust(bottom=0.14)\n",
    "if savePlots:\n",
    "    savefig(baseDir+\"s4g-avis_vs_Lbar.pdf\")\n"
   ]
  },
  {
   "cell_type": "markdown",
   "id": "f34af2ef",
   "metadata": {},
   "source": [
    "## Figure 9: Bar sizes vs stellar mass"
   ]
  },
  {
   "cell_type": "code",
   "execution_count": null,
   "id": "71b0c3fa",
   "metadata": {},
   "outputs": [],
   "source": [
    "mm_db = np.arange(9.0,11.5,0.01)\n",
    "\n",
    "# fit from Table 2 of Erwin (2019), \"Parent Sample\" (D < 30 Mpc, logMstar = 9--11)\n",
    "params_brokenlinear = [-0.75923683,   0.10541102,  10.1620274 ,   0.58544685]\n",
    "fitline_sigma = 0.21   # See Section 4.05 of \"barsize-vs-mstar-etc.\" Jupyter notebook\n",
    "\n",
    "# plot all barred galaxies from S4G (\"Parent disc\" in Erwin 2019), *except* for those in this paper's sample\n",
    "s4gbars = semilogy(s4gdata.logmstar[ii_s4g_barred_non_ews], s4gdata.sma_dp_kpc2[ii_s4g_barred_non_ews], 'o', ms=3, color='0.75', label='S4G (spirals)')\n",
    "# plot this paper's sample\n",
    "semilogy(df_bars.logmstar[ii_db], df_bars.amax_dp_kpc[ii_db], 'o', mfc='None', mec='k', ms=9, label='Outer bars of DB')\n",
    "semilogy(df_bars.logmstar[ii_db], df_bars.amax2_dp_kpc[ii_db], 'ro', ms=8, label='Inner bars of DB')\n",
    "semilogy(df_bars.logmstar, df_bars.amax_dp_kpc, 'ko', ms=5, label='Sample outer or single bars')\n",
    "\n",
    "# NGC 2681 triple bar: log(M_star) = 10.456, semi-major axes of bars = 0.138, 1.457, 4.048 kpc\n",
    "n2681bars = semilogy([10.456]*3, [0.138, 1.457, 4.048], '*',mfc='None',mec='m', mew=1, ms=15, label='NGC 2681')\n",
    "\n",
    "fitline_log = np.array(simplefunc_brokenlinear(params_brokenlinear, mm))\n",
    "s4g_trendline = plot(mm, 10**fitline_log, 'b--', lw=2, label=\"Erwin 2019: S4G spiral trend\")\n",
    "plot(mm, 10**(fitline_log + fitline_sigma), 'b--', lw=0.75, alpha=0.5)\n",
    "plot(mm, 10**(fitline_log - fitline_sigma), 'b--', lw=0.75, alpha=0.5)\n",
    "plot(mm, 10**(fitline_log + 2*fitline_sigma), 'b--', lw=0.75, alpha=0.5)\n",
    "plot(mm, 10**(fitline_log - 2*fitline_sigma), 'b--', lw=0.75, alpha=0.5)\n",
    "plot(mm, 10**(fitline_log + 3*fitline_sigma), 'b--', lw=0.75, alpha=0.5)\n",
    "plot(mm, 10**(fitline_log - 3*fitline_sigma), 'b--', lw=0.75, alpha=0.5)\n",
    "ib_fitline_log = simplefunc_linear([-6.13152, 0.530989], mm_db)\n",
    "plot(mm_db, 10**ib_fitline_log, 'r--', lw=1.5, zorder=3, label=\"DB inner-bar trend\")\n",
    "xlim(9,11.5);ylim(0.1,30)\n",
    "\n",
    "handles, labels = gca().get_legend_handles_labels()\n",
    "print(len(handles), labels)\n",
    "handles_new = [handles[0], (handles[1], handles[3]), handles[2], handles[3], handles[4], handles[5], handles[6]]\n",
    "labels_new = [\"S$^{4}$G bars (spirals)\", \"Outer bars of DB\", \"Inner bars of DB\", \"Single bars\",\n",
    "               \"NGC 2681\", \"S$^{4}$G spiral trend\", \"DB inner-bar trend\"]\n",
    "legend(handles_new, labels_new, loc='upper left', fontsize=11, ncols=2)\n",
    "xlabel(xtmstar);ylabel(ytbarsize_kpc_both)\n",
    "pu.MakeNiceLogAxes(whichAxis=\"y\")\n",
    "# push bottom of plot upwards so that x-axis label isn't clipped in PDF output\n",
    "subplots_adjust(bottom=0.14)\n",
    "if savePlots:\n",
    "    savefig(baseDir + \"bar_amax_vs_Mstar_with-s4g_db_v3.pdf\")"
   ]
  },
  {
   "cell_type": "markdown",
   "id": "f20880a7-9ea3-4331-a06c-76d4c97703ab",
   "metadata": {},
   "source": [
    "## Figure 10: NR and Bar sizes vs stellar mass"
   ]
  },
  {
   "cell_type": "code",
   "execution_count": null,
   "id": "9ec91afa-0c4e-4929-aaff-f78275d12f31",
   "metadata": {},
   "outputs": [],
   "source": [
    "# plot all barred galaxies from S4G (\"Parent disc\" in Erwin 2019), *except* for those in our sample\n",
    "semilogy(s4gdata.logmstar[ii_s4g_barred_non_ews], s4gdata.sma_dp_kpc2[ii_s4g_barred_non_ews], 'o', ms=3, color='0.75', label='S4G (spirals)')\n",
    "# plot NRs and NR host gars\n",
    "#semilogy(df_bars.logmstar[ii_db], df_bars.amax_dp_kpc[ii_db], 'o', mfc='None', mec='k', ms=9, label='Outer bars of DB')\n",
    "semilogy(df_bars.logmstar[ii_nr], df_bars.amax_dp_kpc[ii_nr], 'o', mfc='None', mec='k', ms=9, label='NR hosts')\n",
    "semilogy(df_bars.logmstar[ii_nr], df_bars.nr_dp_kpc[ii_nr], 'co', ms=8, label='NRs')\n",
    "semilogy(df_bars.logmstar, df_bars.amax_dp_kpc, 'ko', ms=5, label='Sample outer or single bars')\n",
    "\n",
    "plot(mm, 10**fitline_log, 'b--', lw=2, label=\"Erwin 2019: S4G spiral trend\")\n",
    "plot(mm, 10**(fitline_log + fitline_sigma), 'b--', lw=0.75, alpha=0.5)\n",
    "plot(mm, 10**(fitline_log - fitline_sigma), 'b--', lw=0.75, alpha=0.5)\n",
    "plot(mm, 10**(fitline_log + 2*fitline_sigma), 'b--', lw=0.75, alpha=0.5)\n",
    "plot(mm, 10**(fitline_log - 2*fitline_sigma), 'b--', lw=0.75, alpha=0.5)\n",
    "plot(mm, 10**(fitline_log + 3*fitline_sigma), 'b--', lw=0.75, alpha=0.5)\n",
    "plot(mm, 10**(fitline_log - 3*fitline_sigma), 'b--', lw=0.75, alpha=0.5)\n",
    "xlim(9,11.5);ylim(0.1,30)\n",
    "legend(loc='upper left', fontsize=11, ncols=2)\n",
    "xlabel(xtmstar);ylabel(ytbarsize_kpc_nr)\n",
    "pu.MakeNiceLogAxes(whichAxis=\"y\")\n",
    "# push bottom of plot upwards so that x-axis label isn't clipped in PDF output\n",
    "subplots_adjust(bottom=0.14)\n",
    "if savePlots:\n",
    "    savefig(baseDir + \"bar_amax_vs_Mstar_with-nr.pdf\")"
   ]
  },
  {
   "cell_type": "markdown",
   "id": "6802eec7-bc7f-4a4d-925f-9f6955691dc9",
   "metadata": {},
   "source": [
    "## Figure 11: IB and NR size vs host bar size"
   ]
  },
  {
   "cell_type": "code",
   "execution_count": null,
   "id": "91448f84-9344-4ef1-9d0b-e4bb9eea7c3c",
   "metadata": {},
   "outputs": [],
   "source": [
    "aa = np.arange(-1.0, 1.01, 0.01)\n",
    "\n",
    "# fit from Table 2 of Erwin (2019), \"Parent Sample\" (D < 30 Mpc, logMstar = 9--11)\n",
    "params_ib_vs_ob = [-0.90893764, 0.75041109]\n",
    "params_nr_vs_ob = [-0.85439353, 0.77862487]\n",
    "\n",
    "loglog(df_bars.amax_dp_kpc[ii_db], df_bars.amax2_dp_kpc[ii_db], 'rs', ms=10, label='Inner bars of DB')\n",
    "\n",
    "ii_nr_st_sf = ii_nr_stellar + ii_nr_sf\n",
    "loglog(df_bars.amax_dp_kpc[ii_nr_st_sf], df_bars.nr_dp_kpc[ii_nr_st_sf], 'co', ms=8, label='All nuclear rings')\n",
    "loglog(df_bars.amax_dp_kpc[ii_nr_stellar], df_bars.nr_dp_kpc[ii_nr_stellar], 'o', ms=8, mfc='None', mec='k',\n",
    "       mew=1.5, label='Stellar nuclear rings')\n",
    "loglog(df_bars.amax_dp_kpc[ii_nr_dusty], df_bars.nr_dp_kpc[ii_nr_dusty], 'o', ms=8, mfc='None', mec='0.75',\n",
    "       mew=2, label='Dusty nuclear rings')\n",
    "\n",
    "loglog(10**aa, 10**np.array(simplefunc_linear(params_ib_vs_ob, aa)), 'r--', lw=2, label=\"Fit for inner bars\")\n",
    "loglog(10**aa, 10**np.array(simplefunc_linear(params_nr_vs_ob, aa)), 'c--', lw=1.0, label=\"Fit for all NRs\")\n",
    "\n",
    "# Inner bar;    SF NR;         stellar NR;                       dusty\n",
    "# red square;   cyan circle;   cyan circle + black circle;       open gray\n",
    "handles, labels = gca().get_legend_handles_labels()\n",
    "# let's say the 2nd and 3rd symbols form the combined symbol\n",
    "handles_new = [handles[0], handles[1], (handles[1], handles[2]), handles[3], handles[4], handles[5]]\n",
    "labels_new =  [\"Inner bars of DB\",  \"SF nuclear ring\", \"Stellar nuclear ring\", \"Dusty nuclear ring\", labels[4], labels[5]]\n",
    "\n",
    "legend(handles_new, labels_new, loc='upper left', fontsize=11)\n",
    "\n",
    "xlim(1,10);ylim(0.1,2)\n",
    "xlabel(r\"Outer/single bar size [kpc]\");ylabel(r\"Inner bar or nuclear ring size [kpc]\")\n",
    "pu.MakeNiceLogAxes(whichAxis=\"x\")\n",
    "pu.MakeNiceLogAxes(whichAxis=\"y\", minor=False)\n",
    "# push bottom of plot upwards so that x-axis label isn't clipped in PDF output\n",
    "subplots_adjust(bottom=0.14)\n",
    "if savePlots:\n",
    "    savefig(baseDir + \"inner-bar-nr-size_vs_bar-size.pdf\")"
   ]
  },
  {
   "cell_type": "markdown",
   "id": "679620df-455c-4688-a47f-2e94b100e894",
   "metadata": {},
   "source": [
    "## Figure 12: Relative position angles between inner and outer bars"
   ]
  },
  {
   "cell_type": "markdown",
   "id": "39a5d208-a923-4b65-8c62-7c419cb338b5",
   "metadata": {},
   "source": [
    "**TODO:** \n",
    "\n",
    "   * [ ] Add CW/CCW rotation code to df_bars\n",
    "\n",
    "   * [ ] Add inner-bar observed PA to df_bars\n"
   ]
  },
  {
   "cell_type": "code",
   "execution_count": null,
   "id": "56687490-f3ef-432c-8b8f-86fb6c2b68e2",
   "metadata": {},
   "outputs": [],
   "source": [
    "deltaPA_dp = []\n",
    "deltaPA_db_abs = []\n",
    "for i in ii_db:\n",
    "    #g = barredGalaxiesArray_d30[i]\n",
    "    diskPA = df_bars.diskPA[i]\n",
    "    inclination = df_bars.inclination[i]\n",
    "    rotCode_str = df_bars.rotCode[i]\n",
    "    if rotCode_str == \"+\":\n",
    "        rotCode = 1\n",
    "    elif rotCode_str == \"-\":\n",
    "        rotCode = -1\n",
    "    else:\n",
    "        rotCode = None\n",
    "    bar1PA = df_bars.barPA[i]\n",
    "    bar1PA_dp = dbnr_utils.deprojectpa_abs(bar1PA, diskPA, inclination)\n",
    "# [ ]    bar2PA_dp = angles.deprojectpa_abs(g.bar2PA, diskPA, inclination)\n",
    "    bar2PA = df_bars.bar2PA[i]\n",
    "    if rotCode in [-1,1]:\n",
    "        dPA_dp = db_utils.DiffAngle(bar2PA, bar1PA, rotCode, diskPA, inclination)\n",
    "        deltaPA_dp.append(dPA_dp)\n",
    "\n",
    "deltaPA_dp = np.array(deltaPA_dp)\n",
    "print(\"N_tot (DB with leading/trailing data) = {0}\".format(len(deltaPA_dp)))\n",
    "print(\"N_trailing = {0}, N_leading = {1}\".format(len([x for x in deltaPA_dp if x < 0]), \n",
    "                                                 len([x for x in deltaPA_dp if x > 0])))\n",
    "\n",
    "clf();hist(deltaPA_dp, bins=np.arange(-90,100,10), histtype='step', color='k');ylim(0,6)\n",
    "xlabel(r\"trailing      $\\Delta$PA      leading\");ylabel(\"$N$\")\n",
    "if savePlots:\n",
    "    savefig(baseDir + \"DB_deltaPA_histogram.pdf\")\n",
    "\n",
    "# K-S test vs uniform distribution\n",
    "# remap the PA range from (-90,90) to (0,1) to compare with default output of scipy.stats.uniform.cdf\n",
    "deltaPA_remapped = (deltaPA_dp + 90)/180\n",
    "scipy.stats.kstest(deltaPA_remapped, scipy.stats.uniform.cdf)\n"
   ]
  },
  {
   "cell_type": "code",
   "execution_count": null,
   "id": "50100e08-3ebc-4397-aea7-c9beb980586d",
   "metadata": {},
   "outputs": [],
   "source": []
  }
 ],
 "metadata": {
  "kernelspec": {
   "display_name": "Python 3 (ipykernel)",
   "language": "python",
   "name": "python3"
  },
  "language_info": {
   "codemirror_mode": {
    "name": "ipython",
    "version": 3
   },
   "file_extension": ".py",
   "mimetype": "text/x-python",
   "name": "python",
   "nbconvert_exporter": "python",
   "pygments_lexer": "ipython3",
   "version": "3.11.3"
  },
  "toc": {
   "base_numbering": 1,
   "nav_menu": {
    "height": "400px",
    "width": "485px"
   },
   "number_sections": true,
   "sideBar": true,
   "skip_h1_title": false,
   "title_cell": "Table of Contents",
   "title_sidebar": "Contents",
   "toc_cell": false,
   "toc_position": {},
   "toc_section_display": true,
   "toc_window_display": false
  }
 },
 "nbformat": 4,
 "nbformat_minor": 5
}
