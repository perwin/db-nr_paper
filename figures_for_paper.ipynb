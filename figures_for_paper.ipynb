{
 "cells": [
  {
   "cell_type": "markdown",
   "id": "814115cd",
   "metadata": {},
   "source": [
    "# Figures for the Paper"
   ]
  },
  {
   "cell_type": "markdown",
   "id": "db24e744",
   "metadata": {},
   "source": [
    "Python code for generating figures used in the paper \"The Frequency\n",
    "and Sizes of Inner Bars and Nuclear Rings in Barred Galaxies and Their\n",
    "Dependence on Galaxy Properties\" (Erwin 2023, submitted)"
   ]
  },
  {
   "cell_type": "markdown",
   "id": "0e37a654",
   "metadata": {},
   "source": [
    "## Requirements\n",
    "\n",
    "This notebook is meant to be run within the full **db-nr_paper** repository, including the associated Python modules and data files.\n",
    "\n",
    "In addition, this notebook requires, directly or indirectly, the following Python packages:\n",
    "   * numpy\n",
    "   * scipy\n",
    "   * matplotlib\n",
    "\n",
    "By default, output PDF figure files are *not* saved to disk; to enable this, set the `savePlots` variable in the **Setup** cell to `True` and change the `plotDir` variable (same cell) to point to where you want the figures saved."
   ]
  },
  {
   "cell_type": "markdown",
   "id": "cf432faa",
   "metadata": {},
   "source": [
    "## Initial Setup"
   ]
  },
  {
   "cell_type": "markdown",
   "id": "627315fb",
   "metadata": {},
   "source": [
    "### General Setup"
   ]
  },
  {
   "cell_type": "code",
   "execution_count": 2,
   "id": "3b0745e0",
   "metadata": {},
   "outputs": [],
   "source": [
    "%matplotlib inline\n",
    "\n",
    "from matplotlib.pyplot import plot, xlim, ylim, title, legend, xlabel, ylabel\n",
    "from matplotlib.pyplot import subplots_adjust, text, savefig, gca, clf, hist\n",
    "from matplotlib.pyplot import loglog, semilogx, semilogy\n",
    "\n",
    "import matplotlib\n",
    "matplotlib.rcParams['figure.figsize'] = (8,6)\n",
    "matplotlib.rcParams['xtick.labelsize'] = 16\n",
    "matplotlib.rcParams['ytick.labelsize'] = 16\n",
    "matplotlib.rcParams['axes.labelsize'] = 20\n"
   ]
  },
  {
   "cell_type": "code",
   "execution_count": 8,
   "id": "3802af23",
   "metadata": {},
   "outputs": [],
   "source": [
    "import copy\n",
    "import scipy.stats\n",
    "import numpy as np\n",
    "\n",
    "baseDir = \"/Users/erwin/Documents/Working/Papers/Paper-extended-wiyn-survey/public/\"\n",
    "dataDir = baseDir\n",
    "plotDir = baseDir + \"plots/\"\n",
    "sys.path.append(baseDir)\n",
    "\n",
    "import dbnr_utils\n",
    "import plotutils as pu\n",
    "\n",
    "\n",
    "\n",
    "unbarredInfoFile = \"/Users/erwin/Documents/Working/Papers/Paper-extended-wiyn-survey/sample_unbarred_info_d30b.txt\"\n",
    "\n",
    "df, gnames_rowdict = dbnr_utils.GetBarredGalaxyData(dataDir + \"table_mainsample.dat\")\n",
    "\n",
    "\n",
    "mm = np.arange(8,12,0.01)\n",
    "\n",
    "# set the following to True in order to save the figures as PDF files\n",
    "savePlots = False\n"
   ]
  },
  {
   "cell_type": "code",
   "execution_count": null,
   "id": "c3f2ceaa",
   "metadata": {},
   "outputs": [],
   "source": []
  }
 ],
 "metadata": {
  "kernelspec": {
   "display_name": "Python 3 (ipykernel)",
   "language": "python",
   "name": "python3"
  },
  "language_info": {
   "codemirror_mode": {
    "name": "ipython",
    "version": 3
   },
   "file_extension": ".py",
   "mimetype": "text/x-python",
   "name": "python",
   "nbconvert_exporter": "python",
   "pygments_lexer": "ipython3",
   "version": "3.11.3"
  },
  "toc": {
   "base_numbering": 1,
   "nav_menu": {},
   "number_sections": true,
   "sideBar": true,
   "skip_h1_title": false,
   "title_cell": "Table of Contents",
   "title_sidebar": "Contents",
   "toc_cell": false,
   "toc_position": {},
   "toc_section_display": true,
   "toc_window_display": false
  }
 },
 "nbformat": 4,
 "nbformat_minor": 5
}
