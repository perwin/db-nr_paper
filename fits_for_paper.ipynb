{
 "cells": [
  {
   "cell_type": "markdown",
   "metadata": {},
   "source": [
    "This notebook contains code for performing linear fits (to logarithmic data, so equivalent\n",
    "to power-law fits to the original linear data) using code from the Scipy package in Python.\n",
    "\n",
    "Specifically, this performs fits to the size of inner bars and nuclear rings as functions of \n",
    "galaxy stellar mass or (outer or single) bar size."
   ]
  },
  {
   "cell_type": "markdown",
   "metadata": {},
   "source": [
    "# Requirements"
   ]
  },
  {
   "cell_type": "markdown",
   "metadata": {},
   "source": [
    "This notebook is meant to be run within the full **db-nr_paper** repository, including the associated data files."
   ]
  },
  {
   "cell_type": "markdown",
   "metadata": {},
   "source": [
    "# Setup"
   ]
  },
  {
   "cell_type": "markdown",
   "metadata": {},
   "source": [
    "## Initial Imports, Path and Global Variable Definitions"
   ]
  },
  {
   "cell_type": "code",
   "execution_count": 1,
   "metadata": {},
   "outputs": [],
   "source": [
    "import sys, datetime\n",
    "import numpy as np\n",
    "from scipy.optimize import curve_fit\n",
    "import scipy.stats\n",
    "\n",
    "# CHANGE THIS TO POINT TO APPROPRIATE LOCAL DIRECTORY (DEFAULT = SAME DIRECTORY AS THIS NOTEBOOK)\n",
    "# baseDir = \"/Users/erwin/Documents/Working/Papers/Paper-extended-wiyn-survey/public/\"\n",
    "baseDir = os.getcwd() + \"/\"\n",
    "dataDir = baseDir + \"data/\"\n",
    "sys.path.append(baseDir)\n",
    "\n",
    "import datautils as du\n",
    "import fitting_barsizes\n",
    "import dbnr_utils\n",
    "\n",
    "fitDict = {}\n",
    "fitParamNamesDict = {}"
   ]
  },
  {
   "cell_type": "markdown",
   "metadata": {},
   "source": [
    "## Defining different subsamples via index vectors\n",
    "\n",
    "Lists of integers defining indices of galaxies in Parent Disc Sample which meet various criteria\n",
    "that define specific subsamples."
   ]
  },
  {
   "cell_type": "markdown",
   "metadata": {},
   "source": [
    "## Define Data Vectors and Subsamples"
   ]
  },
  {
   "cell_type": "code",
   "execution_count": 2,
   "metadata": {},
   "outputs": [],
   "source": [
    "# NEW\n",
    "df_bars, gnames_bars_rowdict = dbnr_utils.GetBarredGalaxyData(\"table_mainsample.dat\", dataDir)\n",
    "nBarredGalaxies = len(df_bars.name)"
   ]
  },
  {
   "cell_type": "code",
   "execution_count": 3,
   "metadata": {},
   "outputs": [
    {
     "name": "stderr",
     "output_type": "stream",
     "text": [
      "/var/folders/rj/3r6_hsl93l737byvn_vy_tmm0000gp/T/ipykernel_88793/1392126389.py:10: RuntimeWarning: divide by zero encountered in log10\n",
      "  logamax_inner_kpc = np.log10(df_bars.amax2_dp_kpc)\n",
      "/var/folders/rj/3r6_hsl93l737byvn_vy_tmm0000gp/T/ipykernel_88793/1392126389.py:11: RuntimeWarning: divide by zero encountered in log10\n",
      "  lognr_kpc = np.log10(df_bars.nr_dp_kpc)\n"
     ]
    }
   ],
   "source": [
    "# assume a constant fractional uncertainty of 10 per cent for inner-bar and nuclear-ring sizes (0.044 in logarithmic terms)\n",
    "log_errs = np.zeros(nBarredGalaxies) + 0.044\n",
    "\n",
    "# indices specifying DB or NR galaxies\n",
    "ii_db = [i for i in range(nBarredGalaxies) if df_bars.dbFlag[i]]\n",
    "ii_nr = [i for i in range(nBarredGalaxies) if df_bars.nrFlag[i]]\n",
    "\n",
    "# log of outer- or single-bar size in kpc; log of inner-bara size in kpc; log of NR size in kpc\n",
    "logamax_kpc = np.log10(df_bars.amax_dp_kpc)\n",
    "logamax_inner_kpc = np.log10(df_bars.amax2_dp_kpc)\n",
    "lognr_kpc = np.log10(df_bars.nr_dp_kpc)"
   ]
  },
  {
   "cell_type": "markdown",
   "metadata": {},
   "source": [
    "# Spearman Correlation Coefficients"
   ]
  },
  {
   "cell_type": "code",
   "execution_count": 4,
   "metadata": {},
   "outputs": [
    {
     "name": "stdout",
     "output_type": "stream",
     "text": [
      "0.7588709677419356 7.508273355480878e-07\n"
     ]
    }
   ],
   "source": [
    "r,p = scipy.stats.spearmanr(df_bars.amax_dp_kpc[ii_db], df_bars.amax2_dp_kpc[ii_db])\n",
    "print(r,p)"
   ]
  },
  {
   "cell_type": "code",
   "execution_count": 5,
   "metadata": {},
   "outputs": [
    {
     "name": "stdout",
     "output_type": "stream",
     "text": [
      "0.5978425274862617 0.0003827874887619227\n"
     ]
    }
   ],
   "source": [
    "r,p = scipy.stats.spearmanr(df_bars.logmstar[ii_db], df_bars.amax2_dp_kpc[ii_db])\n",
    "print(r,p)"
   ]
  },
  {
   "cell_type": "markdown",
   "metadata": {},
   "source": [
    "# Performing Fits"
   ]
  },
  {
   "cell_type": "markdown",
   "metadata": {},
   "source": [
    "## Define Useful Functions"
   ]
  },
  {
   "cell_type": "code",
   "execution_count": 6,
   "metadata": {},
   "outputs": [],
   "source": [
    "# wrappers for functions, in form needed by s4gutils.bootstrap_validation\n",
    "\n",
    "def nicelin( x, p ):\n",
    "    return fitting_barsizes.flin(x, *p)\n",
    "\n",
    "def dofit_lin( x, y, p0, errs ):\n",
    "    pp,pcov = curve_fit(fitting_barsizes.flin, x, y, p0=p0, sigma=errs)\n",
    "    return pp\n",
    "\n",
    "def nicebrokenlin( x, p ):\n",
    "    return fitting_barsizes.fbrokenlin(x, *p)\n",
    "\n",
    "def dofit_brokenlin( x, y, p0, errs ):\n",
    "    pp,pcov = curve_fit(fitting_barsizes.fbrokenlin, x, y, p0=p0, sigma=errs)\n",
    "    return pp\n",
    "\n",
    "\n",
    "def nicecomposite( x, p ):\n",
    "    return fitting_barsizes.fmulti_lin_brokenlin(x, *p)\n",
    "\n",
    "def nicemultilin( x, p ):\n",
    "    return fitting_barsizes.fmulti_lin(x, *p)\n",
    "\n",
    "def dofit_composite( x, y, p0, errs ):\n",
    "    pp,pcov = curve_fit(fitting_barsizes.fmulti_lin, x, y, p0=p0, sigma=errs)\n",
    "    return pp\n",
    "\n",
    "\n",
    "def nicecomposite_binary( x, p ):\n",
    "    return fitting_barsizes.fmulti_binary(x, *p)\n",
    "\n",
    "def dofit_composite_binary( x, y, p0, errs ):\n",
    "    pp,pcov = curve_fit(fitting_barsizes.fmulti_binary, x, y, p0=p0, sigma=errs)\n",
    "    return pp\n",
    "\n",
    "\n",
    "def PrintFitResultsToString( fitDict, key ):\n",
    "    \"\"\"\n",
    "    Ex.:\n",
    "    PrintParameters(fitDict, \"inner-barsize-vs-Mstar\")\n",
    "    \"\"\"\n",
    "    key_uncertainties = key + \"_confint\"\n",
    "    fitResult = fitDict[key]\n",
    "    params, aic, mse = fitResult\n",
    "    txt2 = \"\\n\\t AIC = {0:.2f}, Adjusted test MSE = {1:.3f}\".format(aic, mse)\n",
    "    \n",
    "    if len(params) == 2:\n",
    "        alpha = params[0]\n",
    "        beta = params[1]\n",
    "        ci_alpha, ci_beta = fitDict[key_uncertainties]\n",
    "        alpha_max, alpha_min = np.max(ci_alpha), np.min(ci_alpha)\n",
    "        beta_max, beta_min = np.max(ci_beta), np.min(ci_beta)\n",
    "        alpha_up = alpha_max - alpha\n",
    "        alpha_low = alpha - alpha_min\n",
    "        beta_up = beta_max - beta\n",
    "        beta_low = beta - beta_min\n",
    "        txt1 = \"\\t alpha, beta = {0:.3f} +{1:.3f}/-{2:.3f}, {3:.3f} +{4:.3f}/-{5:.3f}\".format(alpha,\n",
    "                            alpha_up, alpha_low, beta, beta_up, beta_low)\n",
    "    else:   # 3 params\n",
    "        alpha = params[0]\n",
    "        beta1 = params[1]\n",
    "        beta2 = params[2]\n",
    "        ci_alpha, ci_beta1, ci_beta2 = fitDict[key_uncertainties]\n",
    "        alpha_max, alpha_min = np.max(ci_alpha), np.min(ci_alpha)\n",
    "        beta1_max, beta1_min = np.max(ci_beta1), np.min(ci_beta1)\n",
    "        beta2_max, beta2_min = np.max(ci_beta2), np.min(ci_beta2)\n",
    "        alpha_up = alpha_max - alpha\n",
    "        alpha_low = alpha - alpha_min\n",
    "        beta1_up = beta1_max - beta1\n",
    "        beta1_low = beta1 - beta1_min\n",
    "        beta2_up = beta2_max - beta2\n",
    "        beta2_low = beta2 - beta2_min\n",
    "        txt1 = \"\\t alpha, beta1, beta2 = {0:.3f} +{1:.3f}/-{2:.3f}, {3:.3f} +{4:.3f}/-{5:.3f}, {6:.3f} +{7:.3f}/-{8:.3f}\".format(alpha,\n",
    "                            alpha_up, alpha_low, beta1, beta1_up, beta1_low, beta2, beta2_up, beta2_low)\n",
    "\n",
    "    return txt1 + txt2\n"
   ]
  },
  {
   "cell_type": "markdown",
   "metadata": {},
   "source": [
    "## Inner-bar and Nuclear-ring Size vs Stellar Mass and Outer-Bar Size"
   ]
  },
  {
   "cell_type": "markdown",
   "metadata": {},
   "source": [
    "**NOTE:** Fit results (coefficient values, AIC, etc.) in this section vary slightly from those in the published version \n",
    "of the paper, because for simplicity the fits done here use NR and bar sizes in kpc computed with the truncated versions of galaxy distances from `table_mainsample.dat` (e.g., for NGC 4735, $D = 5.1$ Mpc in `table_mainsample.dat`, while $D = 5.126$ Mpc in the original calculations).\n",
    "\n",
    "The differences are much smaller than the estimated uncertainties (e.g., inner-bar size fit vs stellar mass: $\\alpha = -5.982$ +1.525/$-$1.604 here, versus $-5.98 \\pm 1.50$ in Table 5 of the paper.)\n"
   ]
  },
  {
   "cell_type": "markdown",
   "metadata": {},
   "source": [
    "### Inner Bar Sizes"
   ]
  },
  {
   "cell_type": "markdown",
   "metadata": {},
   "source": [
    "#### Inner Bar Size vs Stellar Mass"
   ]
  },
  {
   "cell_type": "code",
   "execution_count": 7,
   "metadata": {},
   "outputs": [
    {
     "name": "stdout",
     "output_type": "stream",
     "text": [
      "   alpha, beta = [-5.98167, 0.518671]\n",
      "   AIC = 628.372\n",
      "[-5.98167402  0.51867119]\n",
      "training MSE = 0.0389663\n",
      "test MSE = 0.0478762 (1000 successful iterations)\n",
      "Adjusted test MSE = 0.0445974\n",
      "\t alpha, beta = -5.982 +1.470/-1.631, 0.519 +0.155/-0.139\n",
      "\t AIC = 628.37, Adjusted test MSE = 0.045\n"
     ]
    }
   ],
   "source": [
    "xx, yy = df_bars.logmstar, logamax_inner_kpc\n",
    "\n",
    "p_init = [-5.5, 0.3]\n",
    "params_ib_vs_mstar, aic_ib_vs_mstar = fitting_barsizes.DoFit(xx, yy, log_errs, ii_db, p_init)\n",
    "mse = dbnr_utils.bootstrap_validation(xx[ii_db], yy[ii_db], 1000, dofit_lin, computeModelFn=nicelin, initialParams=params_ib_vs_mstar, errs=log_errs[ii_db], verbose=True)\n",
    "fitDict['inner-barsize-vs-Mstar'] = [params_ib_vs_mstar, aic_ib_vs_mstar, mse]\n",
    "fitDict['inner-barsize-vs-Mstar_confint'] = fitting_barsizes.ParameterUncertainties(xx, yy, log_errs, ii_db, params_ib_vs_mstar, nIterations=2000) \n",
    "fitParamNamesDict['inner-barsize-vs-Mstar'] = [\"alpha\", \"beta\"]\n",
    "\n",
    "txt = PrintFitResultsToString(fitDict, \"inner-barsize-vs-Mstar\")\n",
    "print(txt)"
   ]
  },
  {
   "cell_type": "markdown",
   "metadata": {},
   "source": [
    "#### Inner Bar Size vs Outer Bar Size"
   ]
  },
  {
   "cell_type": "code",
   "execution_count": 8,
   "metadata": {},
   "outputs": [
    {
     "name": "stdout",
     "output_type": "stream",
     "text": [
      "   alpha, beta = [-0.90022, 0.737922]\n",
      "   AIC = 389.009\n",
      "[-0.90022021  0.73792161]\n",
      "training MSE = 0.0240177\n",
      "test MSE = 0.0279366 (1000 successful iterations)\n",
      "Adjusted test MSE = 0.0264944\n",
      "\t alpha, beta = -0.900 +0.051/-0.054, 0.738 +0.089/-0.089\n",
      "\t AIC = 389.01, Adjusted test MSE = 0.026\n"
     ]
    }
   ],
   "source": [
    "xx,yy = logamax_kpc, logamax_inner_kpc\n",
    "\n",
    "p_init = [-5.5, 0.3]\n",
    "params_ib_vs_ob, aic_ib_vs_ob = fitting_barsizes.DoFit(xx, yy, log_errs, ii_db, p_init)\n",
    "mse = dbnr_utils.bootstrap_validation(xx[ii_db], yy[ii_db], 1000, dofit_lin, computeModelFn=nicelin, initialParams=params_ib_vs_ob, errs=log_errs[ii_db], verbose=True)\n",
    "fitDict['inner-barsize-vs-logamax'] = [params_ib_vs_ob, aic_ib_vs_ob, mse]\n",
    "fitDict['inner-barsize-vs-logamax_confint'] = fitting_barsizes.ParameterUncertainties(xx, yy, log_errs, ii_db, params_ib_vs_ob, nIterations=2000) \n",
    "fitParamNamesDict['inner-barsize-vs-logamax'] = [\"alpha\", \"beta\"]\n",
    "\n",
    "txt = PrintFitResultsToString(fitDict, \"inner-barsize-vs-logamax\")\n",
    "print(txt)"
   ]
  },
  {
   "cell_type": "markdown",
   "metadata": {},
   "source": [
    "#### Nuclear Ring Size vs Stellar Mass"
   ]
  },
  {
   "cell_type": "code",
   "execution_count": 9,
   "metadata": {},
   "outputs": [
    {
     "name": "stdout",
     "output_type": "stream",
     "text": [
      "   alpha, beta = [-6.78296, 0.60582]\n",
      "   AIC = 969.167\n",
      "[-6.78295866  0.60581966]\n",
      "training MSE = 0.0602495\n",
      "test MSE = 0.0758954 (1000 successful iterations)\n",
      "Adjusted test MSE = 0.0701377\n",
      "\t alpha, beta = -6.783 +2.002/-2.071, 0.606 +0.198/-0.192\n",
      "\t AIC = 969.17, Adjusted test MSE = 0.070\n"
     ]
    }
   ],
   "source": [
    "# Nuclear ring size as a function of galaxy stellar mass\n",
    "xx,yy = df_bars.logmstar, lognr_kpc\n",
    "\n",
    "p0 = [-5.5, 0.3]\n",
    "params_nr_vs_mstar, aic_nr_vs_mstar = fitting_barsizes.DoFit(xx, yy, log_errs, ii_nr, p0)\n",
    "mse = dbnr_utils.bootstrap_validation(xx[ii_nr], yy[ii_nr], 1000, dofit_lin, computeModelFn=nicelin, initialParams=params_nr_vs_mstar, errs=log_errs[ii_nr], verbose=True)\n",
    "fitDict['nrsize-vs-Mstar'] = [params_nr_vs_mstar, aic_nr_vs_mstar, mse]\n",
    "fitDict['nrsize-vs-Mstar_confint'] = fitting_barsizes.ParameterUncertainties(xx, yy, log_errs, ii_nr, params_nr_vs_mstar, nIterations=2000) \n",
    "fitParamNamesDict['nrsize-vs-Mstar'] = [\"alpha\", \"beta\"]\n",
    "\n",
    "txt = PrintFitResultsToString(fitDict, \"nrsize-vs-Mstar\")\n",
    "print(txt)"
   ]
  },
  {
   "cell_type": "markdown",
   "metadata": {},
   "source": [
    "#### Nuclear Ring Size vs (Outer or Single) Bar Size"
   ]
  },
  {
   "cell_type": "code",
   "execution_count": 10,
   "metadata": {},
   "outputs": [
    {
     "name": "stdout",
     "output_type": "stream",
     "text": [
      "   alpha, beta = [-0.88005, 0.820183]\n",
      "   AIC = 994.427\n",
      "[-0.88004957  0.82018315]\n",
      "training MSE = 0.061827\n",
      "test MSE = 0.0729617 (1000 successful iterations)\n",
      "Adjusted test MSE = 0.0688641\n",
      "\t alpha, beta = -0.880 +0.117/-0.163, 0.820 +0.238/-0.163\n",
      "\t AIC = 994.43, Adjusted test MSE = 0.069\n"
     ]
    }
   ],
   "source": [
    "# Nuclear ring size as a function of (outer or single) bar size\n",
    "xx,yy = np.log10(df_bars.amax_dp_kpc), lognr_kpc\n",
    "\n",
    "p0 = [-5.5, 0.3]\n",
    "params_nr_vs_ob, aic_nr_vs_ob = fitting_barsizes.DoFit(xx, yy, log_errs, ii_nr, p0)\n",
    "mse = dbnr_utils.bootstrap_validation(xx[ii_nr], yy[ii_nr], 1000, dofit_lin, computeModelFn=nicelin, initialParams=params_nr_vs_ob, errs=log_errs[ii_nr], verbose=True)\n",
    "fitDict['nrsize-vs-logamax'] = [params_nr_vs_ob, aic_nr_vs_ob, mse]\n",
    "fitDict['nrsize-vs-logamax_confint'] = fitting_barsizes.ParameterUncertainties(xx, yy, log_errs, ii_nr, params_nr_vs_ob, nIterations=2000) \n",
    "fitParamNamesDict['nrsize-vs-logamax'] = [\"alpha\", \"beta\"]\n",
    "\n",
    "txt = PrintFitResultsToString(fitDict, \"nrsize-vs-logamax\")\n",
    "print(txt)"
   ]
  },
  {
   "cell_type": "markdown",
   "metadata": {},
   "source": [
    "## Save Best-Fit Parameter values, AIC, MSE"
   ]
  },
  {
   "cell_type": "code",
   "execution_count": 11,
   "metadata": {},
   "outputs": [],
   "source": [
    "dictKeys = list(fitDict.keys())\n",
    "param_names = [k for k in dictKeys if k.find(\"_confint\") < 0]\n",
    "param_limit_names = [k for k in dictKeys if k.find(\"_confint\") > 0]"
   ]
  },
  {
   "cell_type": "markdown",
   "metadata": {},
   "source": [
    "### Save best-fit parameter values to file"
   ]
  },
  {
   "cell_type": "code",
   "execution_count": 12,
   "metadata": {},
   "outputs": [],
   "source": [
    "def WriteParams( outf, name, p_vector ):\n",
    "    txt = \"%s: \" % name\n",
    "    nPts = len(p_vector)\n",
    "    for i in range(nPts):\n",
    "        txt += \"\\t%.4f\" % p_vector[i]\n",
    "    outf.write(txt + \"\\n\")"
   ]
  },
  {
   "cell_type": "code",
   "execution_count": 13,
   "metadata": {},
   "outputs": [
    {
     "data": {
      "text/plain": [
       "['inner-barsize-vs-Mstar',\n",
       " 'inner-barsize-vs-Mstar_confint',\n",
       " 'inner-barsize-vs-logamax',\n",
       " 'inner-barsize-vs-logamax_confint',\n",
       " 'nrsize-vs-Mstar',\n",
       " 'nrsize-vs-Mstar_confint',\n",
       " 'nrsize-vs-logamax',\n",
       " 'nrsize-vs-logamax_confint']"
      ]
     },
     "execution_count": 13,
     "metadata": {},
     "output_type": "execute_result"
    }
   ],
   "source": [
    "dictKeys"
   ]
  },
  {
   "cell_type": "code",
   "execution_count": 14,
   "metadata": {},
   "outputs": [],
   "source": [
    "ts = '{:%Y-%b-%d %H:%M:%S}'.format(datetime.datetime.now())\n",
    "bestfitParamsFile = baseDir + \"bestfit_parameters.txt\"\n",
    "outf = open(bestfitParamsFile, 'w')\n",
    "outf.write(\"# Best-fit parameters for S4G barsize analysis (barsize_fits.ipynb): %s\\n\" % ts)\n",
    "outf.write(\"# Name of fit, followed by best-fit parameter values\\n#\\n\")\n",
    "for name in param_names:\n",
    "    params, aic, mse = fitDict[name]\n",
    "    parameterNames = fitParamNamesDict[name]\n",
    "    outf.write(\"# %s:\" % name)\n",
    "    for paramName in parameterNames:\n",
    "        outf.write(\"  %s\" % paramName)\n",
    "    outf.write(\"\\n\")\n",
    "    WriteParams(outf, name, params)\n",
    "outf.close()"
   ]
  },
  {
   "cell_type": "markdown",
   "metadata": {},
   "source": [
    "### Save AIC and MSE to file"
   ]
  },
  {
   "cell_type": "code",
   "execution_count": 15,
   "metadata": {},
   "outputs": [],
   "source": [
    "outf = open(baseDir + \"bestfit_aic_etc.txt\", 'w')\n",
    "outf.write(\"# AIC and MSE_pred for best-fit parameters for S4G barsize analysis (barsize_fits.ipynb): %s\\n\" % ts)\n",
    "outf.write(\"# [see %s for parameter values]\\n\" % bestfitParamsFile)\n",
    "outf.write(\"# Name of fit, best-fit AIC, MSE_pred\\n\")\n",
    "for name in param_names:\n",
    "    params, aic, mse = fitDict[name]\n",
    "    txt = \"%s:\\t\\t%.1f\\t%.4f\\n\" % (name, aic, mse)\n",
    "    outf.write(txt)\n",
    "outf.close()"
   ]
  },
  {
   "cell_type": "markdown",
   "metadata": {},
   "source": [
    "### Save parameter uncertainties to file"
   ]
  },
  {
   "cell_type": "code",
   "execution_count": 16,
   "metadata": {},
   "outputs": [],
   "source": [
    "outf = open(baseDir + \"bestfit_parameter_uncertainties.txt\", 'w')\n",
    "outf.write(\"# Uncertainties for best-fit parameters for S4G barsize analysis (barsize_fits.ipynb): %s\\n\" % ts)\n",
    "outf.write(\"# [see %s for parameter values]\\n\" % bestfitParamsFile)\n",
    "outf.write(\"# Name of fit, parameter uncertainties\\n\")\n",
    "for name in param_limit_names:\n",
    "    paramLimits = fitDict[name]\n",
    "    nParams = len(paramLimits)\n",
    "    txt = \"%s:   \" % name\n",
    "    for i in range(nParams - 1):\n",
    "        txt += \"(%.4f,%.4f), \" % paramLimits[i]\n",
    "    txt += \"(%.4f,%.4f)\\n\" % paramLimits[-1]\n",
    "    outf.write(txt)\n",
    "outf.close()"
   ]
  },
  {
   "cell_type": "markdown",
   "metadata": {},
   "source": [
    "# Extra Stuff"
   ]
  },
  {
   "cell_type": "markdown",
   "metadata": {},
   "source": [
    "#### Inner Bar Size vs Stellar Mass *and* Outer Bar Size"
   ]
  },
  {
   "cell_type": "code",
   "execution_count": 17,
   "metadata": {},
   "outputs": [
    {
     "name": "stdout",
     "output_type": "stream",
     "text": [
      "   AIC = 354.076\n",
      "[-2.76045307  0.18161553  0.62943899]\n",
      "training MSE = 0.0224873\n",
      "test MSE = 0.0295893 (1000 successful iterations)\n",
      "Adjusted test MSE = 0.0269758\n"
     ]
    }
   ],
   "source": [
    "xx,yy = [df_bars.logmstar, logamax_kpc], logamax_inner_kpc\n",
    "\n",
    "p_init = [-5, 0.5, 0.5]\n",
    "params_ib_vs_obmstar, aic_ib_vs_obmstar = fitting_barsizes.DoFit(xx,yy, log_errs, ii_db, p_init, \"multi-linear\")\n",
    "xx_composite = [df_bars.logmstar[ii_db], logamax_kpc[ii_db]]\n",
    "mse = astrostat.bootstrap_validation(xx_composite, yy[ii_db], 1000, dofit_composite, computeModelFn=nicemultilin, initialParams=params_ib_vs_obmstar, errs=log_errs[ii_db], verbose=True)\n",
    "fitDict['inner-barsize-vs-Mstar+outer-barsize'] = [params_ib_vs_obmstar, aic_ib_vs_obmstar ,mse]\n",
    "fitDict['inner-barsize-vs-Mstar+outer-barsize_confint'] = fitting_barsizes.ParameterUncertainties(xx, yy, log_errs, ii_db, params_ib_vs_obmstar, nIterations=2000, mode=\"multi-linear\") "
   ]
  },
  {
   "cell_type": "markdown",
   "metadata": {},
   "source": [
    "#### Nuclear Ring Size vs Stellar Mass *and* Outer Bar Size"
   ]
  },
  {
   "cell_type": "code",
   "execution_count": 18,
   "metadata": {},
   "outputs": [
    {
     "name": "stdout",
     "output_type": "stream",
     "text": [
      "   AIC = 811.266\n",
      "[-5.29992617  0.43372053  0.55994349]\n",
      "training MSE = 0.0510396\n",
      "test MSE = 0.0697969 (1000 successful iterations)\n",
      "Adjusted test MSE = 0.0628942\n"
     ]
    }
   ],
   "source": [
    "xx,yy = [df_bars.logmstar, logamax_kpc], lognr_kpc\n",
    "\n",
    "p_init = [-5, 0.5, 0.5]\n",
    "params_nr_vs_obmstar, aic_nr_vs_obmstar = fitting_barsizes.DoFit(xx,yy, log_errs, ii_nr, p_init, \"multi-linear\")\n",
    "xx_composite = [df_bars.logmstar[ii_nr], logamax_kpc[ii_nr]]\n",
    "mse = astrostat.bootstrap_validation(xx_composite, yy[ii_nr], 1000, dofit_composite, computeModelFn=nicemultilin, initialParams=params_nr_vs_obmstar, errs=log_errs[ii_nr], verbose=True)\n",
    "fitDict['nrsize-vs-Mstar+outer-barsize'] = [params_nr_vs_obmstar, aic_nr_vs_obmstar ,mse]\n",
    "fitDict['nrsize-vs-Mstar+outer-barsize_confint'] = fitting_barsizes.ParameterUncertainties(xx, yy, log_errs, ii_nr, params_nr_vs_obmstar, nIterations=2000, mode=\"multi-linear\") "
   ]
  },
  {
   "cell_type": "code",
   "execution_count": null,
   "metadata": {},
   "outputs": [],
   "source": []
  }
 ],
 "metadata": {
  "kernelspec": {
   "display_name": "Python 3 (ipykernel)",
   "language": "python",
   "name": "python3"
  },
  "language_info": {
   "codemirror_mode": {
    "name": "ipython",
    "version": 3
   },
   "file_extension": ".py",
   "mimetype": "text/x-python",
   "name": "python",
   "nbconvert_exporter": "python",
   "pygments_lexer": "ipython3",
   "version": "3.11.3"
  },
  "toc": {
   "colors": {
    "hover_highlight": "#DAA520",
    "running_highlight": "#FF0000",
    "selected_highlight": "#FFD700"
   },
   "moveMenuLeft": true,
   "nav_menu": {
    "height": "387px",
    "width": "252px"
   },
   "navigate_menu": true,
   "number_sections": true,
   "sideBar": true,
   "threshold": "3",
   "toc_cell": false,
   "toc_position": {
    "height": "770px",
    "left": "0px",
    "right": "1071px",
    "top": "134px",
    "width": "301px"
   },
   "toc_section_display": "block",
   "toc_window_display": true
  }
 },
 "nbformat": 4,
 "nbformat_minor": 4
}
