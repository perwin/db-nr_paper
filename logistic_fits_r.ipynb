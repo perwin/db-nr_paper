{
 "cells": [
  {
   "cell_type": "markdown",
   "id": "dd44c4c8",
   "metadata": {
    "toc": true
   },
   "source": [
    "<h1>Table of Contents<span class=\"tocSkip\"></span></h1>\n",
    "<div class=\"toc\"><ul class=\"toc-item\"><li><span><a href=\"#Setup\" data-toc-modified-id=\"Setup-1\"><span class=\"toc-item-num\">1&nbsp;&nbsp;</span>Setup</a></span></li><li><span><a href=\"#Weighted-logistic-regression-for-logMstar:-Spirals\" data-toc-modified-id=\"Weighted-logistic-regression-for-logMstar:-Spirals-2\"><span class=\"toc-item-num\">2&nbsp;&nbsp;</span>Weighted logistic regression for logMstar: Spirals</a></span></li><li><span><a href=\"#Weighted-logistic-regression-for-logMstar:-S0s\" data-toc-modified-id=\"Weighted-logistic-regression-for-logMstar:-S0s-3\"><span class=\"toc-item-num\">3&nbsp;&nbsp;</span>Weighted logistic regression for logMstar: S0s</a></span><ul class=\"toc-item\"><li><span><a href=\"#Same,-but-now-with-logMstar-=-10.75-upper-limit\" data-toc-modified-id=\"Same,-but-now-with-logMstar-=-10.75-upper-limit-3.1\"><span class=\"toc-item-num\">3.1&nbsp;&nbsp;</span>Same, but now with logMstar = 10.75 upper limit</a></span></li></ul></li></ul></div>"
   ]
  },
  {
   "cell_type": "markdown",
   "id": "a8e095bc-f5c1-43bf-8afa-472b0c77c1f9",
   "metadata": {},
   "source": [
    "# Requirements"
   ]
  },
  {
   "cell_type": "markdown",
   "id": "c80a84d1-4e7b-431b-a91c-496325693bb2",
   "metadata": {},
   "source": [
    "This notebook is meant to be run within the full XXX repository, including the associated data files."
   ]
  },
  {
   "cell_type": "markdown",
   "id": "f88cfb1a",
   "metadata": {},
   "source": [
    "# Setup"
   ]
  },
  {
   "cell_type": "markdown",
   "id": "e4699818-59f8-4a9a-80f4-01c4a3962df1",
   "metadata": {},
   "source": [
    "Set the following so that it points to the directory with the (text) data files:"
   ]
  },
  {
   "cell_type": "code",
   "execution_count": 4,
   "id": "4219d429",
   "metadata": {},
   "outputs": [],
   "source": [
    "basedir <- \"/Users/erwin/Documents/Working/Papers/Paper-extended-wiyn-survey/public/\""
   ]
  },
  {
   "cell_type": "code",
   "execution_count": 5,
   "id": "a78cbebb-b83d-4aaf-bd6f-7076d036a1a9",
   "metadata": {},
   "outputs": [
    {
     "data": {
      "text/html": [
       "'/Users/erwin/Documents/Working/Papers/Paper-extended-wiyn-survey/public'"
      ],
      "text/latex": [
       "'/Users/erwin/Documents/Working/Papers/Paper-extended-wiyn-survey/public'"
      ],
      "text/markdown": [
       "'/Users/erwin/Documents/Working/Papers/Paper-extended-wiyn-survey/public'"
      ],
      "text/plain": [
       "[1] \"/Users/erwin/Documents/Working/Papers/Paper-extended-wiyn-survey/public\""
      ]
     },
     "metadata": {},
     "output_type": "display_data"
    }
   ],
   "source": [
    "getwd()"
   ]
  },
  {
   "cell_type": "markdown",
   "id": "4b44a2b7-6cb4-45a8-834d-f428540c1929",
   "metadata": {},
   "source": [
    "# Logistic Fits for Presence of Double Bars"
   ]
  },
  {
   "cell_type": "markdown",
   "id": "68173d19-8891-4c57-8166-89e7d42de4b0",
   "metadata": {},
   "source": [
    "Logistic regression for probability that a barred S0-Sd galaxy has an inner bar, as a function of stellar mass $\\log (M_{\\star} / M_{\\odot})$ or semi-major axis of main bar."
   ]
  },
  {
   "cell_type": "markdown",
   "id": "58e306d7-6146-468d-b05c-ef474966f525",
   "metadata": {},
   "source": [
    "Load data into table:"
   ]
  },
  {
   "cell_type": "code",
   "execution_count": 8,
   "id": "349d47ff-12be-4fe5-9892-f584fa7a5a9c",
   "metadata": {},
   "outputs": [],
   "source": [
    "ff1 <- paste(basedir, \"data/db_nr_presence_vs_logmstar_logamax.dat\", sep=\"\")\n",
    "theTable_db <- read.table(ff1, header=TRUE)"
   ]
  },
  {
   "cell_type": "markdown",
   "id": "b32becf6-9ea5-4bfe-89f6-8216f2d2af25",
   "metadata": {},
   "source": [
    "## Single-Variable Fits"
   ]
  },
  {
   "cell_type": "markdown",
   "id": "df702783-a203-4802-aa9d-5c8d6b1fa9c0",
   "metadata": {},
   "source": [
    "Standard linear logistic regression: DB fraction versus log of stellar mass and (main) bar size"
   ]
  },
  {
   "cell_type": "code",
   "execution_count": 9,
   "id": "c6eae683-69e2-4a52-b110-801067d8d5b6",
   "metadata": {},
   "outputs": [
    {
     "data": {
      "text/plain": [
       "\n",
       "Call:\n",
       "glm(formula = DB ~ logmstar, family = binomial, data = theTable_db)\n",
       "\n",
       "Deviance Residuals: \n",
       "    Min       1Q   Median       3Q      Max  \n",
       "-1.9393  -0.6340  -0.4360  -0.2707   2.4203  \n",
       "\n",
       "Coefficients:\n",
       "            Estimate Std. Error z value Pr(>|z|)    \n",
       "(Intercept)  -35.484      7.600  -4.669 3.03e-06 ***\n",
       "logmstar       3.282      0.726   4.521 6.16e-06 ***\n",
       "---\n",
       "Signif. codes:  0 ‘***’ 0.001 ‘**’ 0.01 ‘*’ 0.05 ‘.’ 0.1 ‘ ’ 1\n",
       "\n",
       "(Dispersion parameter for binomial family taken to be 1)\n",
       "\n",
       "    Null deviance: 155.12  on 154  degrees of freedom\n",
       "Residual deviance: 129.13  on 153  degrees of freedom\n",
       "AIC: 133.13\n",
       "\n",
       "Number of Fisher Scoring iterations: 5\n"
      ]
     },
     "metadata": {},
     "output_type": "display_data"
    },
    {
     "data": {
      "text/plain": [
       "\n",
       "Call:\n",
       "glm(formula = DB ~ logamax, family = binomial, data = theTable_db)\n",
       "\n",
       "Deviance Residuals: \n",
       "    Min       1Q   Median       3Q      Max  \n",
       "-1.4901  -0.6333  -0.4092  -0.2375   2.3800  \n",
       "\n",
       "Coefficients:\n",
       "            Estimate Std. Error z value Pr(>|z|)    \n",
       "(Intercept)  -2.8973     0.4622  -6.269 3.63e-10 ***\n",
       "logamax       3.8004     0.8567   4.436 9.16e-06 ***\n",
       "---\n",
       "Signif. codes:  0 ‘***’ 0.001 ‘**’ 0.01 ‘*’ 0.05 ‘.’ 0.1 ‘ ’ 1\n",
       "\n",
       "(Dispersion parameter for binomial family taken to be 1)\n",
       "\n",
       "    Null deviance: 155.12  on 154  degrees of freedom\n",
       "Residual deviance: 129.64  on 153  degrees of freedom\n",
       "AIC: 133.64\n",
       "\n",
       "Number of Fisher Scoring iterations: 5\n"
      ]
     },
     "metadata": {},
     "output_type": "display_data"
    }
   ],
   "source": [
    "thefit1a = glm(DB ~ logmstar, family = binomial, data = theTable_db)\n",
    "thefit1b = glm(DB ~ logamax, family = binomial, data = theTable_db)\n",
    "summary(thefit1a)\n",
    "summary(thefit1b)\n"
   ]
  },
  {
   "cell_type": "markdown",
   "id": "f61b1dc0-99d6-49b1-8c99-b7c4e832d848",
   "metadata": {},
   "source": [
    "## Multi-Variable Fits"
   ]
  },
  {
   "cell_type": "code",
   "execution_count": 10,
   "id": "ab295e08-1e51-47ce-ae7d-b9d49c82516b",
   "metadata": {},
   "outputs": [
    {
     "data": {
      "text/plain": [
       "\n",
       "Call:\n",
       "glm(formula = DB ~ logmstar + logamax, family = binomial, data = theTable_db)\n",
       "\n",
       "Deviance Residuals: \n",
       "    Min       1Q   Median       3Q      Max  \n",
       "-1.7480  -0.5538  -0.3771  -0.2409   2.3565  \n",
       "\n",
       "Coefficients:\n",
       "            Estimate Std. Error z value Pr(>|z|)   \n",
       "(Intercept) -25.6196     8.0855  -3.169  0.00153 **\n",
       "logmstar      2.2403     0.7884   2.841  0.00449 **\n",
       "logamax       2.4536     0.9208   2.665  0.00771 **\n",
       "---\n",
       "Signif. codes:  0 ‘***’ 0.001 ‘**’ 0.01 ‘*’ 0.05 ‘.’ 0.1 ‘ ’ 1\n",
       "\n",
       "(Dispersion parameter for binomial family taken to be 1)\n",
       "\n",
       "    Null deviance: 155.12  on 154  degrees of freedom\n",
       "Residual deviance: 120.95  on 152  degrees of freedom\n",
       "AIC: 126.95\n",
       "\n",
       "Number of Fisher Scoring iterations: 5\n"
      ]
     },
     "metadata": {},
     "output_type": "display_data"
    }
   ],
   "source": [
    "thefit1_mult = glm(DB ~ logmstar + logamax, family = binomial, data = theTable_db)\n",
    "summary(thefit1_mult)\n"
   ]
  },
  {
   "cell_type": "markdown",
   "id": "7809dfb3",
   "metadata": {},
   "source": [
    "# Logistic Fits for Presence of Nuclear Rings"
   ]
  },
  {
   "cell_type": "code",
   "execution_count": null,
   "id": "8f0c8ab7-4fa1-41db-996a-f49142375f5e",
   "metadata": {},
   "outputs": [],
   "source": []
  }
 ],
 "metadata": {
  "kernelspec": {
   "display_name": "R",
   "language": "R",
   "name": "ir"
  },
  "language_info": {
   "codemirror_mode": "r",
   "file_extension": ".r",
   "mimetype": "text/x-r-source",
   "name": "R",
   "pygments_lexer": "r",
   "version": "4.1.0"
  },
  "toc": {
   "base_numbering": 1,
   "nav_menu": {},
   "number_sections": true,
   "sideBar": true,
   "skip_h1_title": false,
   "title_cell": "Table of Contents",
   "title_sidebar": "Contents",
   "toc_cell": true,
   "toc_position": {},
   "toc_section_display": true,
   "toc_window_display": true
  }
 },
 "nbformat": 4,
 "nbformat_minor": 5
}
